{
 "cells": [
  {
   "cell_type": "code",
   "execution_count": 1,
   "metadata": {
    "colab": {},
    "colab_type": "code",
    "id": "NNpa44nK3O4R"
   },
   "outputs": [],
   "source": [
    "#import libraries\n",
    "import tensorflow as tf\n",
    "import tensorflow.keras as K\n",
    "from tensorflow.keras import losses, optimizers, metrics\n",
    "import numpy as np              \n",
    "import matplotlib.pyplot as plt \n",
    "%matplotlib inline\n",
    "from mlxtend.data import loadlocal_mnist\n",
    "from tqdm import tqdm_notebook"
   ]
  },
  {
   "cell_type": "code",
   "execution_count": 2,
   "metadata": {
    "colab": {
     "base_uri": "https://localhost:8080/",
     "height": 225
    },
    "colab_type": "code",
    "id": "ZhFCV1cX3O4n",
    "outputId": "ed77ecf8-dd70-4228-affa-d8636cbdc3be"
   },
   "outputs": [
    {
     "name": "stdout",
     "output_type": "stream",
     "text": [
      "  % Total    % Received % Xferd  Average Speed   Time    Time     Time  Current\n",
      "                                 Dload  Upload   Total   Spent    Left  Speed\n",
      "100 28881  100 28881    0     0   210k      0 --:--:-- --:--:-- --:--:--  210k\n",
      "  % Total    % Received % Xferd  Average Speed   Time    Time     Time  Current\n",
      "                                 Dload  Upload   Total   Spent    Left  Speed\n",
      "100 9680k  100 9680k    0     0  37.3M      0 --:--:-- --:--:-- --:--:-- 37.3M\n",
      "  % Total    % Received % Xferd  Average Speed   Time    Time     Time  Current\n",
      "                                 Dload  Upload   Total   Spent    Left  Speed\n",
      "100  4542  100  4542    0     0  54722      0 --:--:-- --:--:-- --:--:-- 55390\n",
      "  % Total    % Received % Xferd  Average Speed   Time    Time     Time  Current\n",
      "                                 Dload  Upload   Total   Spent    Left  Speed\n",
      "100 1610k  100 1610k    0     0  8751k      0 --:--:-- --:--:-- --:--:-- 8751k\n"
     ]
    }
   ],
   "source": [
    "#download MNIST dataset\n",
    "!curl -O http://yann.lecun.com/exdb/mnist/train-labels-idx1-ubyte.gz\n",
    "!curl -O http://yann.lecun.com/exdb/mnist/train-images-idx3-ubyte.gz\n",
    "!curl -O http://yann.lecun.com/exdb/mnist/t10k-labels-idx1-ubyte.gz\n",
    "!curl -O http://yann.lecun.com/exdb/mnist/t10k-images-idx3-ubyte.gz"
   ]
  },
  {
   "cell_type": "code",
   "execution_count": 3,
   "metadata": {
    "colab": {
     "base_uri": "https://localhost:8080/",
     "height": 156
    },
    "colab_type": "code",
    "id": "tiVsdcgc3O42",
    "outputId": "3851ee83-4a8c-4739-a9f7-693bd4ad565b"
   },
   "outputs": [
    {
     "name": "stdout",
     "output_type": "stream",
     "text": [
      "gzip: t10k-images-idx3-ubyte already exists; do you wish to overwrite (y or n)? n\n",
      "\tnot overwritten\n",
      "gzip: t10k-labels-idx1-ubyte already exists; do you wish to overwrite (y or n)? n\n",
      "\tnot overwritten\n",
      "gzip: train-images-idx3-ubyte already exists; do you wish to overwrite (y or n)? n\n",
      "\tnot overwritten\n",
      "gzip: train-labels-idx1-ubyte already exists; do you wish to overwrite (y or n)? n\n",
      "\tnot overwritten\n"
     ]
    }
   ],
   "source": [
    "#unzip files\n",
    "!gunzip t*-ubyte.gz"
   ]
  },
  {
   "cell_type": "code",
   "execution_count": 0,
   "metadata": {
    "colab": {},
    "colab_type": "code",
    "id": "9n9yfNXz3O5A"
   },
   "outputs": [],
   "source": [
    "#load dataset\n",
    "X_train, y_train = loadlocal_mnist(\n",
    "        images_path='train-images-idx3-ubyte', \n",
    "        labels_path='train-labels-idx1-ubyte')\n",
    "X_test, y_test = loadlocal_mnist(\n",
    "        images_path='t10k-images-idx3-ubyte', \n",
    "        labels_path='t10k-labels-idx1-ubyte')\n",
    "\n",
    "#reshape to image shape\n",
    "X_train = X_train.reshape(60000,28,28,1)\n",
    "X_test = X_test.reshape(10000,28,28,1)\n",
    "#sampled training dataset\n",
    "X_train_6k = X_train.copy()[:6000]/255.0\n",
    "y_train_6k = y_train.copy()[:6000]\n",
    "#augmented training dataset\n",
    "X_train_12k = X_train.copy()[:12000]/255.0\n",
    "y_train_12k = y_train.copy()[:12000]\n",
    "#sampled test dataset\n",
    "X_test = X_test[:1000]/255.0\n",
    "y_test = y_test[:1000]"
   ]
  },
  {
   "cell_type": "code",
   "execution_count": 0,
   "metadata": {
    "colab": {},
    "colab_type": "code",
    "id": "SKec-SlJXgDc"
   },
   "outputs": [],
   "source": [
    "noise = 0.25 #25% noise\n",
    "\n",
    "#pick random bernouli sample and assign fault label\n",
    "\n",
    "bern = np.random.binomial(1,noise, len(y_train_6k))\n",
    "s = sum(bern)\n",
    "y_train_noise_6k = y_train_6k.copy()\n",
    "y_train_noise_6k[bern==1] = np.random.randint(9,size=s)\n",
    "\n",
    "bern = np.random.binomial(1,noise, len(y_train_12k))\n",
    "s = sum(bern)\n",
    "y_train_noise_12k = y_train_12k.copy()\n",
    "y_train_noise_12k[bern==1] = np.random.randint(9,size=s)"
   ]
  },
  {
   "cell_type": "code",
   "execution_count": 6,
   "metadata": {
    "colab": {
     "base_uri": "https://localhost:8080/",
     "height": 282
    },
    "colab_type": "code",
    "id": "cxIDERcX3O5d",
    "outputId": "06aac1c8-e074-46d5-a80e-008da450a09a"
   },
   "outputs": [
    {
     "data": {
      "text/plain": [
       "<matplotlib.image.AxesImage at 0x7f66cfe2e320>"
      ]
     },
     "execution_count": 6,
     "metadata": {
      "tags": []
     },
     "output_type": "execute_result"
    },
    {
     "data": {
      "image/png": "[encoded data removed]",
      "text/plain": [
       "<Figure size 432x288 with 1 Axes>"
      ]
     },
     "metadata": {
      "needs_background": "light",
      "tags": []
     },
     "output_type": "display_data"
    }
   ],
   "source": [
    "plt.imshow(X_train_6k[0].reshape(28,28))"
   ]
  },
  {
   "cell_type": "code",
   "execution_count": 7,
   "metadata": {
    "colab": {
     "base_uri": "https://localhost:8080/",
     "height": 34
    },
    "colab_type": "code",
    "id": "BZj9lthen3Dh",
    "outputId": "010ba083-a507-4394-8fa9-3076b3ac6105"
   },
   "outputs": [
    {
     "data": {
      "text/plain": [
       "5"
      ]
     },
     "execution_count": 7,
     "metadata": {
      "tags": []
     },
     "output_type": "execute_result"
    }
   ],
   "source": [
    "y_train_6k[0]"
   ]
  },
  {
   "cell_type": "code",
   "execution_count": 0,
   "metadata": {
    "colab": {},
    "colab_type": "code",
    "id": "n7IOlMC2n6U2"
   },
   "outputs": [],
   "source": [
    "#transform target output to one-hot-encoded representation\n",
    "y_train_6k = tf.keras.utils.to_categorical(y_train_6k)\n",
    "y_train_12k = tf.keras.utils.to_categorical(y_train_12k)\n",
    "y_train_noise_6k = tf.keras.utils.to_categorical(y_train_noise_6k)\n",
    "y_train_noise_12k = tf.keras.utils.to_categorical(y_train_noise_12k)\n",
    "\n",
    "y_test = tf.keras.utils.to_categorical(y_test)"
   ]
  },
  {
   "cell_type": "code",
   "execution_count": 9,
   "metadata": {
    "colab": {
     "base_uri": "https://localhost:8080/",
     "height": 34
    },
    "colab_type": "code",
    "id": "cgr7_weSoEfD",
    "outputId": "742bcdc6-8f27-41a4-acc6-be4c8112719c"
   },
   "outputs": [
    {
     "data": {
      "text/plain": [
       "array([0., 0., 0., 0., 0., 1., 0., 0., 0., 0.], dtype=float32)"
      ]
     },
     "execution_count": 9,
     "metadata": {
      "tags": []
     },
     "output_type": "execute_result"
    }
   ],
   "source": [
    "y_train_6k[0]"
   ]
  },
  {
   "cell_type": "code",
   "execution_count": 2,
   "metadata": {
    "colab": {},
    "colab_type": "code",
    "id": "vLKBxrYo3O5r"
   },
   "outputs": [],
   "source": [
    "#blocks definition\n",
    "#input_size = 32 #ONLY FOR CIFAR DATASET\n",
    "\n",
    "input_size = 28\n",
    "def cnn_block(x_inp, filters, kernel_size=(3, 3),padding=\"same\", strides=1,pooling=2):\n",
    "    '''function that returns a cnn block composed of Conv-BatchNorm-ReLU-MaxPool layers'''\n",
    "    x = K.layers.Conv2D(filters, kernel_size, padding=padding, strides=strides)(x_inp)\n",
    "    x = K.layers.BatchNormalization()(x)\n",
    "    x = K.layers.Activation('relu')(x)\n",
    "    x = K.layers.MaxPool2D(pool_size=(pooling,pooling))(x)\n",
    "    return x\n",
    "\n",
    "\n",
    "def resnet_block(x_inp, filters, kernel_size=(3, 3),padding=\"same\", strides=1,r=True): \n",
    "    '''function that returns a cnn block composed of two BatchNorm-ReLU-Convolution layers'''\n",
    "    x = K.layers.BatchNormalization()(x_inp)\n",
    "    x = K.layers.Activation('relu')(x)\n",
    "    x = K.layers.Conv2D(filters, kernel_size, padding=padding, strides=strides)(x)\n",
    "    x = K.layers.BatchNormalization()(x)\n",
    "    x = K.layers.Activation('relu')(x)\n",
    "    x = K.layers.Conv2D(filters, kernel_size, padding=padding, strides=strides)(x)\n",
    "    if r:\n",
    "        #interference Conv. layer in order to match the output dimensions\n",
    "        x_inp = K.layers.Conv2D(filters,(1,1), padding=padding, strides=strides)(x_inp)\n",
    "        x_inp = K.layers.Conv2D(filters,(1,1), padding=padding, strides=strides)(x_inp)\n",
    "    x = K.layers.Add()([x,x_inp])\n",
    "    return x\n",
    "\n",
    "\n",
    "def resnet(k=64):\n",
    "    '''ResNet network creation'''\n",
    "    images = K.layers.Input((input_size,input_size, 1))\n",
    "    x = resnet_block(images,k,strides=1)\n",
    "    n_blocks = 4\n",
    "    for i in range(1, n_blocks):\n",
    "            x = resnet_block(x, k* (2**i),strides=2)   \n",
    "    x = K.layers.Flatten()(x)\n",
    "    x = K.layers.Dense(10, activation='softmax')(x)\n",
    "    net = K.models.Model(inputs=[images], outputs=[x])\n",
    "\n",
    "    return(net)\n",
    "\n",
    "\n",
    "def cnn(k=64):\n",
    "    '''CNN network creation'''\n",
    "    images = K.layers.Input((input_size,input_size, 1))\n",
    "    x = cnn_block(images,k,pooling=1)\n",
    "    n_blocks = 4\n",
    "    for i in range(1, n_blocks):\n",
    "        if i == 3:\n",
    "            x = cnn_block(x, k* (2**i),pooling=4) \n",
    "            #x = cnn_block(x, k * (2**i),pooling=8) only for CIFAR DATASET   \n",
    "        else:\n",
    "            x = cnn_block(x, k * (2**i))\n",
    "    x = K.layers.Flatten()(x)\n",
    "    x = K.layers.Dense(10, activation='softmax')(x)\n",
    "    net = K.models.Model(inputs=[images], outputs=[x])\n",
    "\n",
    "    return(net)"
   ]
  },
  {
   "cell_type": "code",
   "execution_count": 3,
   "metadata": {
    "colab": {},
    "colab_type": "code",
    "id": "25clA-Sx3O57"
   },
   "outputs": [
    {
     "name": "stdout",
     "output_type": "stream",
     "text": [
      "Model: \"model\"\n",
      "_________________________________________________________________\n",
      "Layer (type)                 Output Shape              Param #   \n",
      "=================================================================\n",
      "input_1 (InputLayer)         [(None, 28, 28, 1)]       0         \n",
      "_________________________________________________________________\n",
      "conv2d (Conv2D)              (None, 28, 28, 64)        640       \n",
      "_________________________________________________________________\n",
      "batch_normalization (BatchNo (None, 28, 28, 64)        256       \n",
      "_________________________________________________________________\n",
      "activation (Activation)      (None, 28, 28, 64)        0         \n",
      "_________________________________________________________________\n",
      "max_pooling2d (MaxPooling2D) (None, 28, 28, 64)        0         \n",
      "_________________________________________________________________\n",
      "conv2d_1 (Conv2D)            (None, 28, 28, 128)       73856     \n",
      "_________________________________________________________________\n",
      "batch_normalization_1 (Batch (None, 28, 28, 128)       512       \n",
      "_________________________________________________________________\n",
      "activation_1 (Activation)    (None, 28, 28, 128)       0         \n",
      "_________________________________________________________________\n",
      "max_pooling2d_1 (MaxPooling2 (None, 14, 14, 128)       0         \n",
      "_________________________________________________________________\n",
      "conv2d_2 (Conv2D)            (None, 14, 14, 256)       295168    \n",
      "_________________________________________________________________\n",
      "batch_normalization_2 (Batch (None, 14, 14, 256)       1024      \n",
      "_________________________________________________________________\n",
      "activation_2 (Activation)    (None, 14, 14, 256)       0         \n",
      "_________________________________________________________________\n",
      "max_pooling2d_2 (MaxPooling2 (None, 7, 7, 256)         0         \n",
      "_________________________________________________________________\n",
      "conv2d_3 (Conv2D)            (None, 7, 7, 512)         1180160   \n",
      "_________________________________________________________________\n",
      "batch_normalization_3 (Batch (None, 7, 7, 512)         2048      \n",
      "_________________________________________________________________\n",
      "activation_3 (Activation)    (None, 7, 7, 512)         0         \n",
      "_________________________________________________________________\n",
      "max_pooling2d_3 (MaxPooling2 (None, 1, 1, 512)         0         \n",
      "_________________________________________________________________\n",
      "flatten (Flatten)            (None, 512)               0         \n",
      "_________________________________________________________________\n",
      "dense (Dense)                (None, 10)                5130      \n",
      "=================================================================\n",
      "Total params: 1,558,794\n",
      "Trainable params: 1,556,874\n",
      "Non-trainable params: 1,920\n",
      "_________________________________________________________________\n"
     ]
    }
   ],
   "source": [
    "net = cnn()\n",
    "net.summary()"
   ]
  },
  {
   "cell_type": "code",
   "execution_count": null,
   "metadata": {},
   "outputs": [],
   "source": [
    "# from tensorflow.keras.utils import plot_model\n",
    "# plot_model(net, to_file='model.png')"
   ]
  },
  {
   "cell_type": "code",
   "execution_count": 4,
   "metadata": {},
   "outputs": [
    {
     "name": "stdout",
     "output_type": "stream",
     "text": [
      "Model: \"model_1\"\n",
      "__________________________________________________________________________________________________\n",
      "Layer (type)                    Output Shape         Param #     Connected to                     \n",
      "==================================================================================================\n",
      "input_2 (InputLayer)            [(None, 28, 28, 1)]  0                                            \n",
      "__________________________________________________________________________________________________\n",
      "batch_normalization_4 (BatchNor (None, 28, 28, 1)    4           input_2[0][0]                    \n",
      "__________________________________________________________________________________________________\n",
      "activation_4 (Activation)       (None, 28, 28, 1)    0           batch_normalization_4[0][0]      \n",
      "__________________________________________________________________________________________________\n",
      "conv2d_4 (Conv2D)               (None, 28, 28, 64)   640         activation_4[0][0]               \n",
      "__________________________________________________________________________________________________\n",
      "batch_normalization_5 (BatchNor (None, 28, 28, 64)   256         conv2d_4[0][0]                   \n",
      "__________________________________________________________________________________________________\n",
      "activation_5 (Activation)       (None, 28, 28, 64)   0           batch_normalization_5[0][0]      \n",
      "__________________________________________________________________________________________________\n",
      "conv2d_6 (Conv2D)               (None, 28, 28, 64)   128         input_2[0][0]                    \n",
      "__________________________________________________________________________________________________\n",
      "conv2d_5 (Conv2D)               (None, 28, 28, 64)   36928       activation_5[0][0]               \n",
      "__________________________________________________________________________________________________\n",
      "conv2d_7 (Conv2D)               (None, 28, 28, 64)   4160        conv2d_6[0][0]                   \n",
      "__________________________________________________________________________________________________\n",
      "add (Add)                       (None, 28, 28, 64)   0           conv2d_5[0][0]                   \n",
      "                                                                 conv2d_7[0][0]                   \n",
      "__________________________________________________________________________________________________\n",
      "batch_normalization_6 (BatchNor (None, 28, 28, 64)   256         add[0][0]                        \n",
      "__________________________________________________________________________________________________\n",
      "activation_6 (Activation)       (None, 28, 28, 64)   0           batch_normalization_6[0][0]      \n",
      "__________________________________________________________________________________________________\n",
      "conv2d_8 (Conv2D)               (None, 14, 14, 128)  73856       activation_6[0][0]               \n",
      "__________________________________________________________________________________________________\n",
      "batch_normalization_7 (BatchNor (None, 14, 14, 128)  512         conv2d_8[0][0]                   \n",
      "__________________________________________________________________________________________________\n",
      "activation_7 (Activation)       (None, 14, 14, 128)  0           batch_normalization_7[0][0]      \n",
      "__________________________________________________________________________________________________\n",
      "conv2d_10 (Conv2D)              (None, 14, 14, 128)  8320        add[0][0]                        \n",
      "__________________________________________________________________________________________________\n",
      "conv2d_9 (Conv2D)               (None, 7, 7, 128)    147584      activation_7[0][0]               \n",
      "__________________________________________________________________________________________________\n",
      "conv2d_11 (Conv2D)              (None, 7, 7, 128)    16512       conv2d_10[0][0]                  \n",
      "__________________________________________________________________________________________________\n",
      "add_1 (Add)                     (None, 7, 7, 128)    0           conv2d_9[0][0]                   \n",
      "                                                                 conv2d_11[0][0]                  \n",
      "__________________________________________________________________________________________________\n",
      "batch_normalization_8 (BatchNor (None, 7, 7, 128)    512         add_1[0][0]                      \n",
      "__________________________________________________________________________________________________\n",
      "activation_8 (Activation)       (None, 7, 7, 128)    0           batch_normalization_8[0][0]      \n",
      "__________________________________________________________________________________________________\n",
      "conv2d_12 (Conv2D)              (None, 4, 4, 256)    295168      activation_8[0][0]               \n",
      "__________________________________________________________________________________________________\n",
      "batch_normalization_9 (BatchNor (None, 4, 4, 256)    1024        conv2d_12[0][0]                  \n",
      "__________________________________________________________________________________________________\n",
      "activation_9 (Activation)       (None, 4, 4, 256)    0           batch_normalization_9[0][0]      \n",
      "__________________________________________________________________________________________________\n",
      "conv2d_14 (Conv2D)              (None, 4, 4, 256)    33024       add_1[0][0]                      \n",
      "__________________________________________________________________________________________________\n",
      "conv2d_13 (Conv2D)              (None, 2, 2, 256)    590080      activation_9[0][0]               \n",
      "__________________________________________________________________________________________________\n",
      "conv2d_15 (Conv2D)              (None, 2, 2, 256)    65792       conv2d_14[0][0]                  \n",
      "__________________________________________________________________________________________________\n",
      "add_2 (Add)                     (None, 2, 2, 256)    0           conv2d_13[0][0]                  \n",
      "                                                                 conv2d_15[0][0]                  \n",
      "__________________________________________________________________________________________________\n",
      "batch_normalization_10 (BatchNo (None, 2, 2, 256)    1024        add_2[0][0]                      \n",
      "__________________________________________________________________________________________________\n",
      "activation_10 (Activation)      (None, 2, 2, 256)    0           batch_normalization_10[0][0]     \n",
      "__________________________________________________________________________________________________\n",
      "conv2d_16 (Conv2D)              (None, 1, 1, 512)    1180160     activation_10[0][0]              \n",
      "__________________________________________________________________________________________________\n",
      "batch_normalization_11 (BatchNo (None, 1, 1, 512)    2048        conv2d_16[0][0]                  \n",
      "__________________________________________________________________________________________________\n",
      "activation_11 (Activation)      (None, 1, 1, 512)    0           batch_normalization_11[0][0]     \n",
      "__________________________________________________________________________________________________\n",
      "conv2d_18 (Conv2D)              (None, 1, 1, 512)    131584      add_2[0][0]                      \n",
      "__________________________________________________________________________________________________\n",
      "conv2d_17 (Conv2D)              (None, 1, 1, 512)    2359808     activation_11[0][0]              \n",
      "__________________________________________________________________________________________________\n",
      "conv2d_19 (Conv2D)              (None, 1, 1, 512)    262656      conv2d_18[0][0]                  \n",
      "__________________________________________________________________________________________________\n",
      "add_3 (Add)                     (None, 1, 1, 512)    0           conv2d_17[0][0]                  \n",
      "                                                                 conv2d_19[0][0]                  \n",
      "__________________________________________________________________________________________________\n",
      "flatten_1 (Flatten)             (None, 512)          0           add_3[0][0]                      \n",
      "__________________________________________________________________________________________________\n",
      "dense_1 (Dense)                 (None, 10)           5130        flatten_1[0][0]                  \n",
      "==================================================================================================\n",
      "Total params: 5,217,166\n",
      "Trainable params: 5,214,348\n",
      "Non-trainable params: 2,818\n",
      "__________________________________________________________________________________________________\n"
     ]
    }
   ],
   "source": [
    "net = resnet()\n",
    "net.summary()"
   ]
  },
  {
   "cell_type": "code",
   "execution_count": 0,
   "metadata": {
    "colab": {},
    "colab_type": "code",
    "id": "RUJhZ5P83O6E"
   },
   "outputs": [],
   "source": [
    "# from tensorflow.keras.utils import plot_model\n",
    "# plot_model(net, to_file='model.png')"
   ]
  },
  {
   "cell_type": "markdown",
   "metadata": {
    "colab_type": "text",
    "id": "W-KFOCCObXxq"
   },
   "source": [
    "## MODEL-WISE DOUBLE DESCENT"
   ]
  },
  {
   "cell_type": "code",
   "execution_count": 13,
   "metadata": {
    "colab": {
     "base_uri": "https://localhost:8080/",
     "height": 1000,
     "referenced_widgets": [
      "10bbbf632b864ba285c26ee8576e73b5",
      "cf9dc9ed5937420e8088e83ac5714c2f",
      "89c7c316d0864eec8ec48f5ff8d24aa0",
      "cf02040ba62f44c6a193b8c81e5a1b9f",
      "aa57ccce67b64b0595bdfa6153899d53",
      "094e3ac25b7743b79aa691883249e3a4",
      "3b9976cceff34005a5dc6888774eba84",
      "31424ed0f0a246628411e133054e0c4d"
     ]
    },
    "colab_type": "code",
    "id": "IN6_sA7_3O6L",
    "outputId": "d0432bdb-0c2a-4c10-cfb8-ff486b061ab1"
   },
   "outputs": [
    {
     "name": "stderr",
     "output_type": "stream",
     "text": [
      "/usr/local/lib/python3.6/dist-packages/ipykernel_launcher.py:5: TqdmDeprecationWarning: This function will be removed in tqdm==5.0.0\n",
      "Please use `tqdm.notebook.tqdm` instead of `tqdm.tqdm_notebook`\n",
      "  \"\"\"\n"
     ]
    },
    {
     "data": {
      "application/vnd.jupyter.widget-view+json": {
       "model_id": "10bbbf632b864ba285c26ee8576e73b5",
       "version_major": 2,
       "version_minor": 0
      },
      "text/plain": [
       "HBox(children=(IntProgress(value=0, max=20), HTML(value='')))"
      ]
     },
     "metadata": {
      "tags": []
     },
     "output_type": "display_data"
    },
    {
     "name": "stdout",
     "output_type": "stream",
     "text": [
      "NOISELESS: k: 1, train_loss: 0.2183, test_loss: 0.3422 // -\n",
      "25% NOISE: k: 1, train_loss: 1.2479, test_loss: 0.7111 // -\n",
      "\n",
      "\n",
      "NOISELESS: k: 2, train_loss: 0.021, test_loss: 0.205 // -\n",
      "25% NOISE: k: 2, train_loss: 0.9697, test_loss: 0.6068 // -\n",
      "\n",
      "\n",
      "NOISELESS: k: 3, train_loss: 0.0019, test_loss: 0.1477 // -\n",
      "25% NOISE: k: 3, train_loss: 0.6987, test_loss: 0.6775 // +\n",
      "\n",
      "\n",
      "NOISELESS: k: 4, train_loss: 0.0006, test_loss: 0.1199 // -\n",
      "25% NOISE: k: 4, train_loss: 0.3972, test_loss: 0.7988 // +\n",
      "\n",
      "\n",
      "NOISELESS: k: 5, train_loss: 0.0004, test_loss: 0.1235 // +\n",
      "25% NOISE: k: 5, train_loss: 0.1234, test_loss: 0.9693 // +\n",
      "\n",
      "\n",
      "NOISELESS: k: 6, train_loss: 0.0003, test_loss: 0.1014 // -\n",
      "25% NOISE: k: 6, train_loss: 0.032, test_loss: 0.9335 // -\n",
      "\n",
      "\n",
      "NOISELESS: k: 7, train_loss: 0.0002, test_loss: 0.1061 // +\n",
      "25% NOISE: k: 7, train_loss: 0.0088, test_loss: 0.8397 // -\n",
      "\n",
      "\n",
      "NOISELESS: k: 8, train_loss: 0.0001, test_loss: 0.0964 // -\n",
      "25% NOISE: k: 8, train_loss: 0.0038, test_loss: 0.7085 // -\n",
      "\n",
      "\n",
      "NOISELESS: k: 9, train_loss: 0.0001, test_loss: 0.095 // -\n",
      "25% NOISE: k: 9, train_loss: 0.0024, test_loss: 0.6513 // -\n",
      "\n",
      "\n",
      "NOISELESS: k: 10, train_loss: 0.0001, test_loss: 0.0907 // -\n",
      "25% NOISE: k: 10, train_loss: 0.0015, test_loss: 0.6048 // -\n",
      "\n",
      "\n",
      "NOISELESS: k: 11, train_loss: 0.0001, test_loss: 0.0909 // +\n",
      "25% NOISE: k: 11, train_loss: 0.0011, test_loss: 0.5504 // -\n",
      "\n",
      "\n",
      "NOISELESS: k: 12, train_loss: 0.0001, test_loss: 0.0759 // -\n",
      "25% NOISE: k: 12, train_loss: 0.0008, test_loss: 0.5303 // -\n",
      "\n",
      "\n",
      "NOISELESS: k: 13, train_loss: 0.0001, test_loss: 0.0843 // +\n",
      "25% NOISE: k: 13, train_loss: 0.0007, test_loss: 0.497 // -\n",
      "\n",
      "\n",
      "NOISELESS: k: 14, train_loss: 0.0001, test_loss: 0.0833 // -\n",
      "25% NOISE: k: 14, train_loss: 0.0006, test_loss: 0.4759 // -\n",
      "\n",
      "\n",
      "NOISELESS: k: 15, train_loss: 0.0, test_loss: 0.0781 // -\n",
      "25% NOISE: k: 15, train_loss: 0.0005, test_loss: 0.4304 // -\n",
      "\n",
      "\n",
      "NOISELESS: k: 16, train_loss: 0.0, test_loss: 0.0852 // +\n",
      "25% NOISE: k: 16, train_loss: 0.0005, test_loss: 0.4254 // -\n",
      "\n",
      "\n",
      "NOISELESS: k: 17, train_loss: 0.0, test_loss: 0.074 // -\n",
      "25% NOISE: k: 17, train_loss: 0.0004, test_loss: 0.3976 // -\n",
      "\n",
      "\n",
      "NOISELESS: k: 18, train_loss: 0.0, test_loss: 0.0755 // +\n",
      "25% NOISE: k: 18, train_loss: 0.0003, test_loss: 0.3784 // -\n",
      "\n",
      "\n",
      "NOISELESS: k: 19, train_loss: 0.0, test_loss: 0.0734 // -\n",
      "25% NOISE: k: 19, train_loss: 0.0003, test_loss: 0.39 // +\n",
      "\n",
      "\n",
      "NOISELESS: k: 20, train_loss: 0.0, test_loss: 0.0726 // -\n",
      "25% NOISE: k: 20, train_loss: 0.0003, test_loss: 0.3578 // -\n",
      "\n",
      "\n",
      "\n"
     ]
    }
   ],
   "source": [
    "train_loss_noiseless = {}\n",
    "test_loss_noiseless = {}\n",
    "train_loss_noise = {}\n",
    "test_loss_noise = {}\n",
    "for k in tqdm_notebook(range(1,21,1)):\n",
    "    error_train_noiseless = []\n",
    "    error_test_noiseless = []\n",
    "    error_train_noise = []\n",
    "    error_test_noise = []\n",
    "    s = '-'\n",
    "    for _ in range(3):\n",
    "        #noiseless\n",
    "        net = cnn(k)\n",
    "        net.compile(loss=losses.CategoricalCrossentropy(), optimizer=optimizers.Adam(0.001),metrics=metrics.categorical_accuracy)\n",
    "        history = net.fit(X_train_6k,y_train_6k,batch_size=128,epochs=100,validation_data=(X_test,y_test),verbose=0)\n",
    "        error_train_noiseless.append(history.history['loss'][-1])\n",
    "        error_test_noiseless.append(history.history['val_loss'][-1])\n",
    "        #noise\n",
    "        net = cnn(k)\n",
    "        net.compile(loss=losses.CategoricalCrossentropy(), optimizer=optimizers.Adam(0.001),metrics=metrics.categorical_accuracy)\n",
    "        history = net.fit(X_train_6k,y_train_noise_6k,batch_size=128,epochs=100,validation_data=(X_test,y_test),verbose=0)\n",
    "        error_train_noise.append(history.history['loss'][-1])\n",
    "        error_test_noise.append(history.history['val_loss'][-1])\n",
    "    train_loss_noiseless[k] = np.mean(error_train_noiseless)\n",
    "    test_loss_noiseless[k] = np.mean(error_test_noiseless)\n",
    "    train_loss_noise[k] = np.mean(error_train_noise)\n",
    "    test_loss_noise[k] = np.mean(error_test_noise)\n",
    "\n",
    "    if k > 1:\n",
    "        if list(test_loss_noiseless.values())[-1] >= list(test_loss_noiseless.values())[-2]:\n",
    "            s = '+'\n",
    "        else:\n",
    "            s = '-'\n",
    "    print('NOISELESS: k: {}, train_loss: {}, test_loss: {} // {}'.format(k,round(train_loss_noiseless[k],4),round(test_loss_noiseless[k],4),s))\n",
    "    if k > 1:\n",
    "        if list(test_loss_noise.values())[-1] >= list(test_loss_noise.values())[-2]:\n",
    "            s = '+'\n",
    "        else:\n",
    "            s = '-'\n",
    "    print('25% NOISE: k: {}, train_loss: {}, test_loss: {} // {}'.format(k,round(train_loss_noise[k],4),round(test_loss_noise[k],4),s))\n",
    "    print()\n",
    "    print()"
   ]
  },
  {
   "cell_type": "code",
   "execution_count": 17,
   "metadata": {
    "colab": {
     "base_uri": "https://localhost:8080/",
     "height": 577
    },
    "colab_type": "code",
    "id": "DMBpXYeeStjn",
    "outputId": "7337ce0d-059d-457d-942b-21cc5a776453"
   },
   "outputs": [
    {
     "data": {
      "image/png": "[encoded data removed]",
      "text/plain": [
       "<Figure size 864x648 with 1 Axes>"
      ]
     },
     "metadata": {
      "needs_background": "light",
      "tags": []
     },
     "output_type": "display_data"
    }
   ],
   "source": [
    "# multiple line plot\n",
    "plt.figure(figsize=(12,9))\n",
    "plt.plot(list(test_loss_noiseless.keys()),list(test_loss_noiseless.values()),'bx-',marker = '.',linestyle='--', \n",
    "         markerfacecolor='yellow', color='skyblue', linewidth=2,markersize=12,label='Noiseless')\n",
    "plt.plot(list(test_loss_noise.keys()),list(test_loss_noise.values()),'bx-',marker = '.',linestyle='--', \n",
    "         markerfacecolor='orange', color='tomato', linewidth=2,markersize=12,label='25% Noise')\n",
    "plt.xlabel('Width Parameter',fontsize=16)\n",
    "plt.ylabel('Test Loss',fontsize=16)\n",
    "plt.title('CNN Model-Wise',fontsize=20)\n",
    "plt.legend()\n",
    "plt.grid()\n",
    "plt.show()"
   ]
  },
  {
   "cell_type": "markdown",
   "metadata": {
    "colab_type": "text",
    "id": "gKUORHTKboKJ"
   },
   "source": [
    "## SAMLE-WISE DOUBLE DESCENT"
   ]
  },
  {
   "cell_type": "code",
   "execution_count": 19,
   "metadata": {
    "colab": {
     "base_uri": "https://localhost:8080/",
     "height": 1000,
     "referenced_widgets": [
      "7c6304ffa8ce480daff2668f247eb8da",
      "9b7797d0f9fb455097368612cedf2750",
      "d707beeca6dd4e21ae978ee9ed5fed71",
      "4888d9e6fc254e698c90b9264ac497ab",
      "b3b9434db05a4daa987833093ca668a3",
      "0fb6ef423ca440978cd4ef532b0082de",
      "66cb9188b0a14b4bad91b8360fb45ff0",
      "5f0591c028bf410aa1384424ecc8b9b0"
     ]
    },
    "colab_type": "code",
    "id": "gyxC0tgbrzb4",
    "outputId": "d865f5c9-9c05-4e66-c96b-253a76561cc3"
   },
   "outputs": [
    {
     "name": "stderr",
     "output_type": "stream",
     "text": [
      "/usr/local/lib/python3.6/dist-packages/ipykernel_launcher.py:5: TqdmDeprecationWarning: This function will be removed in tqdm==5.0.0\n",
      "Please use `tqdm.notebook.tqdm` instead of `tqdm.tqdm_notebook`\n",
      "  \"\"\"\n"
     ]
    },
    {
     "data": {
      "application/vnd.jupyter.widget-view+json": {
       "model_id": "7c6304ffa8ce480daff2668f247eb8da",
       "version_major": 2,
       "version_minor": 0
      },
      "text/plain": [
       "HBox(children=(IntProgress(value=0, max=20), HTML(value='')))"
      ]
     },
     "metadata": {
      "tags": []
     },
     "output_type": "display_data"
    },
    {
     "name": "stdout",
     "output_type": "stream",
     "text": [
      "6k SAMPLES: k: 1, train_loss: 1.1909, test_loss: 0.6954 // -\n",
      "12k SAMPLES: k: 1, train_loss: 1.2336, test_loss: 0.6522 // -\n",
      "\n",
      "\n",
      "6k SAMPLES: k: 2, train_loss: 0.9735, test_loss: 0.6037 // -\n",
      "12k SAMPLES: k: 2, train_loss: 1.0519, test_loss: 0.5006 // -\n",
      "\n",
      "\n",
      "6k SAMPLES: k: 3, train_loss: 0.735, test_loss: 0.7096 // +\n",
      "12k SAMPLES: k: 3, train_loss: 0.9162, test_loss: 0.5247 // +\n",
      "\n",
      "\n",
      "6k SAMPLES: k: 4, train_loss: 0.3214, test_loss: 1.2316 // +\n",
      "12k SAMPLES: k: 4, train_loss: 0.7196, test_loss: 0.6841 // +\n",
      "\n",
      "\n",
      "6k SAMPLES: k: 5, train_loss: 0.15, test_loss: 1.6702 // +\n",
      "12k SAMPLES: k: 5, train_loss: 0.515, test_loss: 0.9023 // +\n",
      "\n",
      "\n",
      "6k SAMPLES: k: 6, train_loss: 0.0845, test_loss: 1.6459 // -\n",
      "12k SAMPLES: k: 6, train_loss: 0.3006, test_loss: 1.1831 // +\n",
      "\n",
      "\n",
      "6k SAMPLES: k: 7, train_loss: 0.0083, test_loss: 1.5057 // -\n",
      "12k SAMPLES: k: 7, train_loss: 0.1703, test_loss: 1.5486 // +\n",
      "\n",
      "\n",
      "6k SAMPLES: k: 8, train_loss: 0.0015, test_loss: 1.5599 // +\n",
      "12k SAMPLES: k: 8, train_loss: 0.1381, test_loss: 1.4593 // -\n",
      "\n",
      "\n",
      "6k SAMPLES: k: 9, train_loss: 0.0005, test_loss: 1.3032 // -\n",
      "12k SAMPLES: k: 9, train_loss: 0.121, test_loss: 1.5479 // +\n",
      "\n",
      "\n",
      "6k SAMPLES: k: 10, train_loss: 0.0003, test_loss: 1.2777 // -\n",
      "12k SAMPLES: k: 10, train_loss: 0.0771, test_loss: 1.4752 // -\n",
      "\n",
      "\n",
      "6k SAMPLES: k: 11, train_loss: 0.0003, test_loss: 1.2473 // -\n",
      "12k SAMPLES: k: 11, train_loss: 0.0793, test_loss: 1.4295 // -\n",
      "\n",
      "\n",
      "6k SAMPLES: k: 12, train_loss: 0.0002, test_loss: 1.2199 // -\n",
      "12k SAMPLES: k: 12, train_loss: 0.0005, test_loss: 1.1855 // -\n",
      "\n",
      "\n",
      "6k SAMPLES: k: 13, train_loss: 0.0002, test_loss: 1.1888 // -\n",
      "12k SAMPLES: k: 13, train_loss: 0.0003, test_loss: 1.1461 // -\n",
      "\n",
      "\n",
      "6k SAMPLES: k: 14, train_loss: 0.0001, test_loss: 1.1802 // -\n",
      "12k SAMPLES: k: 14, train_loss: 0.0002, test_loss: 1.2338 // +\n",
      "\n",
      "\n",
      "6k SAMPLES: k: 15, train_loss: 0.0001, test_loss: 1.12 // -\n",
      "12k SAMPLES: k: 15, train_loss: 0.0003, test_loss: 1.0522 // -\n",
      "\n",
      "\n",
      "6k SAMPLES: k: 16, train_loss: 0.0001, test_loss: 1.076 // -\n",
      "12k SAMPLES: k: 16, train_loss: 0.0002, test_loss: 1.0272 // -\n",
      "\n",
      "\n",
      "6k SAMPLES: k: 17, train_loss: 0.0001, test_loss: 0.9971 // -\n",
      "12k SAMPLES: k: 17, train_loss: 0.0002, test_loss: 0.9669 // -\n",
      "\n",
      "\n",
      "6k SAMPLES: k: 18, train_loss: 0.0001, test_loss: 1.0775 // +\n",
      "12k SAMPLES: k: 18, train_loss: 0.0002, test_loss: 0.9052 // -\n",
      "\n",
      "\n",
      "6k SAMPLES: k: 19, train_loss: 0.0001, test_loss: 1.0147 // -\n",
      "12k SAMPLES: k: 19, train_loss: 0.0001, test_loss: 0.9587 // +\n",
      "\n",
      "\n",
      "6k SAMPLES: k: 20, train_loss: 0.0001, test_loss: 1.0572 // +\n",
      "12k SAMPLES: k: 20, train_loss: 0.0001, test_loss: 0.9483 // -\n",
      "\n",
      "\n",
      "\n"
     ]
    }
   ],
   "source": [
    "train_loss_6k = {}\n",
    "test_loss_6k = {}\n",
    "train_loss_12k = {}\n",
    "test_loss_12k = {}\n",
    "for k in tqdm_notebook(range(1,21,1)):\n",
    "    error_train_6k = []\n",
    "    error_test_6k = []\n",
    "    error_train_12k = []\n",
    "    error_test_12k = []\n",
    "    s = '-'\n",
    "    for _ in range(3):\n",
    "        #6k samples\n",
    "        net = resnet(k)\n",
    "        net.compile(loss=losses.CategoricalCrossentropy(), optimizer=optimizers.Adam(0.001),metrics=metrics.categorical_accuracy)\n",
    "        history = net.fit(X_train_6k,y_train_noise_6k,batch_size=128,epochs=60,validation_data=(X_test,y_test),verbose=0)\n",
    "        error_train_6k.append(history.history['loss'][-1])\n",
    "        error_test_6k.append(history.history['val_loss'][-1])\n",
    "        #12k samples\n",
    "        net = resnet(k)\n",
    "        net.compile(loss=losses.CategoricalCrossentropy(), optimizer=optimizers.Adam(0.001),metrics=metrics.categorical_accuracy)\n",
    "        history = net.fit(X_train_12k,y_train_noise_12k,batch_size=128,epochs=60,validation_data=(X_test,y_test),verbose=0)\n",
    "        error_train_12k.append(history.history['loss'][-1])\n",
    "        error_test_12k.append(history.history['val_loss'][-1])\n",
    "    train_loss_6k[k] = np.mean(error_train_6k)\n",
    "    test_loss_6k[k] = np.mean(error_test_6k)\n",
    "    train_loss_12k[k] = np.mean(error_train_12k)\n",
    "    test_loss_12k[k] = np.mean(error_test_12k)\n",
    "\n",
    "    if k > 1:\n",
    "        if list(test_loss_6k.values())[-1] >= list(test_loss_6k.values())[-2]:\n",
    "            s = '+'\n",
    "        else:\n",
    "            s = '-'\n",
    "    print('6k SAMPLES: k: {}, train_loss: {}, test_loss: {} // {}'.format(k,round(train_loss_6k[k],4),round(test_loss_6k[k],4),s))\n",
    "    if k > 1:\n",
    "        if list(test_loss_12k.values())[-1] >= list(test_loss_12k.values())[-2]:\n",
    "            s = '+'\n",
    "        else:\n",
    "            s = '-'\n",
    "    print('12k SAMPLES: k: {}, train_loss: {}, test_loss: {} // {}'.format(k,round(train_loss_12k[k],4),round(test_loss_12k[k],4),s))\n",
    "    print()\n",
    "    print()"
   ]
  },
  {
   "cell_type": "code",
   "execution_count": 20,
   "metadata": {
    "colab": {
     "base_uri": "https://localhost:8080/",
     "height": 577
    },
    "colab_type": "code",
    "id": "0fY4BswxdiUS",
    "outputId": "5a5d4ff0-a4ed-4a7f-8256-86652c75819d"
   },
   "outputs": [
    {
     "data": {
      "image/png": "[encoded data removed]",
      "text/plain": [
       "<Figure size 864x648 with 1 Axes>"
      ]
     },
     "metadata": {
      "needs_background": "light",
      "tags": []
     },
     "output_type": "display_data"
    }
   ],
   "source": [
    "# multiple line plot\n",
    "plt.figure(figsize=(12,9))\n",
    "plt.plot(list(test_loss_6k.keys()),list(test_loss_6k.values()),'bx-',marker = '.',linestyle='--', \n",
    "         markerfacecolor='yellow', color='skyblue', linewidth=2,markersize=12,label='6k samples')\n",
    "plt.plot(list(test_loss_12k.keys()),list(test_loss_12k.values()),'bx-',marker = '.',linestyle='--', \n",
    "         markerfacecolor='orange', color='tomato', linewidth=2,markersize=12,label='12k samples')\n",
    "plt.xlabel('Width Parameter',fontsize=16)\n",
    "plt.ylabel('Test Loss',fontsize=16)\n",
    "plt.title('ResNet Model-Wise',fontsize=20)\n",
    "plt.legend()\n",
    "plt.grid()\n",
    "plt.show()"
   ]
  },
  {
   "cell_type": "markdown",
   "metadata": {
    "colab_type": "text",
    "id": "M4qt7z8kdwOC"
   },
   "source": [
    "## EPOCH-WISE DOUBLE DESCENT"
   ]
  },
  {
   "cell_type": "markdown",
   "metadata": {},
   "source": [
    "### CNN"
   ]
  },
  {
   "cell_type": "code",
   "execution_count": 26,
   "metadata": {
    "colab": {
     "base_uri": "https://localhost:8080/",
     "height": 1000,
     "referenced_widgets": [
      "17a640a7b15e43058bd88d2674037a4a",
      "78ea0a3ea84343b78f2451bac5844fc7",
      "8bc1e6069e4142469f3f6554073923e0",
      "1b2e6512cc1d4de78bc6f20da7461a20",
      "71df90bb20f0477da23bbd79719954b3",
      "d8e5e5ca092e414388aaef1daafc5a52",
      "6698edcd286546aca3a3eb0660f4e809",
      "271e15a3cb414367989af10732c0c1cd",
      "8a8b5ba261784f289ea36af63c683128",
      "0a56d261733d4e04a073874d506c3f07",
      "6a82ab376cfc42348f7e9590bbe1bafe",
      "4d2ce4d533364348a6dde9e4bdfb63c1",
      "7d44a0b3ec6d40e78162ef31878b14dd",
      "a06a1e9bd31643719dd762520716ca62",
      "a98a516788144b689ee4cfb3172b3ed6",
      "a1c565816c034ba392d4c6a37147770d",
      "e8934c5fb84d4402bfabefa887451081",
      "656afbc207b24869a43a2136c84666e1",
      "1b8c92e27cbf4e8fab429197aff3a34c",
      "a4b3ca762ec046f0850cbe065a41bfd2",
      "784b4176db674674b5b2fbf515189682",
      "c1bdd56f321f4e0dbb0b5acdbda148cf",
      "19697d7027b648678628fc98c3ee72b9",
      "9b2c97ff18d4442c8cfdcc8239ad80c9"
     ]
    },
    "colab_type": "code",
    "id": "b15AVNWmVSOI",
    "outputId": "f66fa998-a77d-4430-f7ec-8c3d11efd69c"
   },
   "outputs": [
    {
     "name": "stdout",
     "output_type": "stream",
     "text": [
      "Model width parameter k: 3\n"
     ]
    },
    {
     "name": "stderr",
     "output_type": "stream",
     "text": [
      "/usr/local/lib/python3.6/dist-packages/ipykernel_launcher.py:7: TqdmDeprecationWarning: This function will be removed in tqdm==5.0.0\n",
      "Please use `tqdm.notebook.tqdm` instead of `tqdm.tqdm_notebook`\n",
      "  import sys\n"
     ]
    },
    {
     "data": {
      "application/vnd.jupyter.widget-view+json": {
       "model_id": "17a640a7b15e43058bd88d2674037a4a",
       "version_major": 2,
       "version_minor": 0
      },
      "text/plain": [
       "HBox(children=(IntProgress(value=0, max=30), HTML(value='')))"
      ]
     },
     "metadata": {
      "tags": []
     },
     "output_type": "display_data"
    },
    {
     "name": "stdout",
     "output_type": "stream",
     "text": [
      "Epoch: 5, train_loss: 1.2943, test_loss: 1.6759 // -\n",
      "Epoch: 10, train_loss: 1.1458, test_loss: 0.7988 // -\n",
      "Epoch: 15, train_loss: 1.0882, test_loss: 0.6623 // -\n",
      "Epoch: 20, train_loss: 1.0405, test_loss: 0.5976 // -\n",
      "Epoch: 25, train_loss: 0.9864, test_loss: 0.6139 // +\n",
      "Epoch: 30, train_loss: 0.9597, test_loss: 0.6155 // +\n",
      "Epoch: 35, train_loss: 0.9345, test_loss: 0.6078 // -\n",
      "Epoch: 40, train_loss: 0.9053, test_loss: 0.5772 // -\n",
      "Epoch: 45, train_loss: 0.8852, test_loss: 0.6009 // +\n",
      "Epoch: 50, train_loss: 0.8665, test_loss: 0.553 // -\n",
      "Epoch: 55, train_loss: 0.8393, test_loss: 0.6526 // +\n",
      "Epoch: 60, train_loss: 0.8354, test_loss: 0.5811 // -\n",
      "Epoch: 65, train_loss: 0.7835, test_loss: 0.6511 // +\n",
      "Epoch: 70, train_loss: 0.7766, test_loss: 0.6612 // +\n",
      "Epoch: 75, train_loss: 0.7658, test_loss: 0.6626 // +\n",
      "Epoch: 80, train_loss: 0.7447, test_loss: 0.6023 // -\n",
      "Epoch: 85, train_loss: 0.7604, test_loss: 0.6347 // +\n",
      "Epoch: 90, train_loss: 0.7471, test_loss: 0.6558 // +\n",
      "Epoch: 95, train_loss: 0.7391, test_loss: 0.6961 // +\n",
      "Epoch: 100, train_loss: 0.6952, test_loss: 0.6687 // -\n",
      "Epoch: 105, train_loss: 0.7157, test_loss: 0.6504 // -\n",
      "Epoch: 110, train_loss: 0.6607, test_loss: 0.7083 // +\n",
      "Epoch: 115, train_loss: 0.6651, test_loss: 0.7474 // +\n",
      "Epoch: 120, train_loss: 0.6607, test_loss: 0.6847 // -\n",
      "Epoch: 125, train_loss: 0.6545, test_loss: 0.738 // +\n",
      "Epoch: 130, train_loss: 0.6584, test_loss: 0.7181 // -\n",
      "Epoch: 135, train_loss: 0.6442, test_loss: 0.734 // +\n",
      "Epoch: 140, train_loss: 0.6329, test_loss: 0.7027 // -\n",
      "Epoch: 145, train_loss: 0.619, test_loss: 0.7864 // +\n",
      "Epoch: 150, train_loss: 0.6253, test_loss: 0.772 // -\n",
      "\n",
      "Model width parameter k: 12\n"
     ]
    },
    {
     "data": {
      "application/vnd.jupyter.widget-view+json": {
       "model_id": "8a8b5ba261784f289ea36af63c683128",
       "version_major": 2,
       "version_minor": 0
      },
      "text/plain": [
       "HBox(children=(IntProgress(value=0, max=30), HTML(value='')))"
      ]
     },
     "metadata": {
      "tags": []
     },
     "output_type": "display_data"
    },
    {
     "name": "stdout",
     "output_type": "stream",
     "text": [
      "Epoch: 5, train_loss: 0.9763, test_loss: 2.5746 // -\n",
      "Epoch: 10, train_loss: 0.6764, test_loss: 1.127 // -\n",
      "Epoch: 15, train_loss: 0.3819, test_loss: 0.7559 // -\n",
      "Epoch: 20, train_loss: 0.1508, test_loss: 0.5816 // -\n",
      "Epoch: 25, train_loss: 0.0696, test_loss: 0.5578 // -\n",
      "Epoch: 30, train_loss: 0.0277, test_loss: 0.5131 // -\n",
      "Epoch: 35, train_loss: 0.0161, test_loss: 0.506 // -\n",
      "Epoch: 40, train_loss: 0.0115, test_loss: 0.4781 // -\n",
      "Epoch: 45, train_loss: 0.0082, test_loss: 0.488 // +\n",
      "Epoch: 50, train_loss: 0.006, test_loss: 0.4758 // -\n",
      "Epoch: 55, train_loss: 0.005, test_loss: 0.4597 // -\n",
      "Epoch: 60, train_loss: 0.0039, test_loss: 0.5043 // +\n",
      "Epoch: 65, train_loss: 0.0032, test_loss: 0.4616 // -\n",
      "Epoch: 70, train_loss: 0.0027, test_loss: 0.5236 // +\n",
      "Epoch: 75, train_loss: 0.0021, test_loss: 0.4667 // -\n",
      "Epoch: 80, train_loss: 0.0015, test_loss: 0.5018 // +\n",
      "Epoch: 85, train_loss: 0.0014, test_loss: 0.5224 // +\n",
      "Epoch: 90, train_loss: 0.0013, test_loss: 0.511 // -\n",
      "Epoch: 95, train_loss: 0.0011, test_loss: 0.5326 // +\n",
      "Epoch: 100, train_loss: 0.0008, test_loss: 0.5217 // -\n",
      "Epoch: 105, train_loss: 0.0007, test_loss: 0.5447 // +\n",
      "Epoch: 110, train_loss: 0.0006, test_loss: 0.5554 // +\n",
      "Epoch: 115, train_loss: 0.0005, test_loss: 0.5037 // -\n",
      "Epoch: 120, train_loss: 0.0005, test_loss: 0.5098 // +\n",
      "Epoch: 125, train_loss: 0.0004, test_loss: 0.5844 // +\n",
      "Epoch: 130, train_loss: 0.0003, test_loss: 0.5755 // -\n",
      "Epoch: 135, train_loss: 0.0003, test_loss: 0.5561 // -\n",
      "Epoch: 140, train_loss: 0.0003, test_loss: 0.5378 // -\n",
      "Epoch: 145, train_loss: 0.0002, test_loss: 0.5907 // +\n",
      "Epoch: 150, train_loss: 0.0002, test_loss: 0.5489 // -\n",
      "\n",
      "Model width parameter k: 48\n"
     ]
    },
    {
     "data": {
      "application/vnd.jupyter.widget-view+json": {
       "model_id": "e8934c5fb84d4402bfabefa887451081",
       "version_major": 2,
       "version_minor": 0
      },
      "text/plain": [
       "HBox(children=(IntProgress(value=0, max=30), HTML(value='')))"
      ]
     },
     "metadata": {
      "tags": []
     },
     "output_type": "display_data"
    },
    {
     "name": "stdout",
     "output_type": "stream",
     "text": [
      "Epoch: 5, train_loss: 0.9491, test_loss: 3.9769 // -\n",
      "Epoch: 10, train_loss: 0.3358, test_loss: 2.4671 // -\n",
      "Epoch: 15, train_loss: 0.032, test_loss: 0.7334 // -\n",
      "Epoch: 20, train_loss: 0.0026, test_loss: 0.2849 // -\n",
      "Epoch: 25, train_loss: 0.0015, test_loss: 0.2621 // -\n",
      "Epoch: 30, train_loss: 0.001, test_loss: 0.2632 // +\n",
      "Epoch: 35, train_loss: 0.0008, test_loss: 0.2888 // +\n",
      "Epoch: 40, train_loss: 0.0006, test_loss: 0.2866 // -\n",
      "Epoch: 45, train_loss: 0.0004, test_loss: 0.263 // -\n",
      "Epoch: 50, train_loss: 0.0003, test_loss: 0.2573 // -\n",
      "Epoch: 55, train_loss: 0.0003, test_loss: 0.2776 // +\n",
      "Epoch: 60, train_loss: 0.0002, test_loss: 0.2596 // -\n",
      "Epoch: 65, train_loss: 0.0002, test_loss: 0.2713 // +\n",
      "Epoch: 70, train_loss: 0.0002, test_loss: 0.2817 // +\n",
      "Epoch: 75, train_loss: 0.0001, test_loss: 0.2685 // -\n",
      "Epoch: 80, train_loss: 0.0001, test_loss: 0.2747 // +\n",
      "Epoch: 85, train_loss: 0.0001, test_loss: 0.2817 // +\n",
      "Epoch: 90, train_loss: 0.0001, test_loss: 0.2549 // -\n",
      "Epoch: 95, train_loss: 0.0001, test_loss: 0.2746 // +\n",
      "Epoch: 100, train_loss: 0.0001, test_loss: 0.2911 // +\n",
      "Epoch: 105, train_loss: 0.0001, test_loss: 0.2747 // -\n",
      "Epoch: 110, train_loss: 0.0, test_loss: 0.277 // +\n",
      "Epoch: 115, train_loss: 0.0, test_loss: 0.2663 // -\n",
      "Epoch: 120, train_loss: 0.0, test_loss: 0.2791 // +\n",
      "Epoch: 125, train_loss: 0.0, test_loss: 0.2869 // +\n",
      "Epoch: 130, train_loss: 0.0, test_loss: 0.2808 // -\n",
      "Epoch: 135, train_loss: 0.0, test_loss: 0.2814 // +\n",
      "Epoch: 140, train_loss: 0.0, test_loss: 0.2608 // -\n",
      "Epoch: 145, train_loss: 0.0, test_loss: 0.2615 // +\n",
      "Epoch: 150, train_loss: 0.0, test_loss: 0.2942 // +\n",
      "\n"
     ]
    }
   ],
   "source": [
    "train_loss = {}\n",
    "test_loss = {}\n",
    "for k in [3,12,48]:\n",
    "    print('Model width parameter k: {}'.format(k))\n",
    "    train_loss[k] = {}\n",
    "    test_loss[k] = {}\n",
    "    for e in tqdm_notebook(range(5,155,5)):\n",
    "        error_train = []\n",
    "        error_test = []\n",
    "        s = '-'\n",
    "        for _ in range(3):\n",
    "            net = cnn(k)\n",
    "            net.compile(loss=losses.CategoricalCrossentropy(), optimizer=optimizers.Adam(0.001),metrics=metrics.categorical_accuracy)\n",
    "            history = net.fit(X_train_6k,y_train_noise_6k,batch_size=128,epochs=e,validation_data=(X_test,y_test),verbose=0)\n",
    "            error_train.append(history.history['loss'][-1])\n",
    "            error_test.append(history.history['val_loss'][-1])\n",
    "        train_loss[k][e] = np.mean(error_train)\n",
    "        test_loss[k][e] = np.mean(error_test)\n",
    "        if e > 5:\n",
    "            if list(test_loss[k].values())[-1] >= list(test_loss[k].values())[-2]:\n",
    "                s = '+'\n",
    "            else:\n",
    "                s = '-'\n",
    "        print('Epoch: {}, train_loss: {}, test_loss: {} // {}'.format(e,round(train_loss[k][e],4),round(test_loss[k][e],4),s))"
   ]
  },
  {
   "cell_type": "code",
   "execution_count": 27,
   "metadata": {
    "colab": {
     "base_uri": "https://localhost:8080/",
     "height": 577
    },
    "colab_type": "code",
    "id": "HWPlhDFGK6BH",
    "outputId": "58307cff-ea0e-4934-cc39-ea6dada3575b"
   },
   "outputs": [
    {
     "data": {
      "image/png": "[encoded data removed]",
      "text/plain": [
       "<Figure size 864x648 with 1 Axes>"
      ]
     },
     "metadata": {
      "needs_background": "light",
      "tags": []
     },
     "output_type": "display_data"
    }
   ],
   "source": [
    "#multiple line plot\n",
    "plt.figure(figsize=(12,9))\n",
    "plt.plot(list(test_loss[3].keys()),list(test_loss[3].values()),'bx-',marker = '.',linestyle='--', \n",
    "         markerfacecolor='yellow', color='skyblue', linewidth=2,markersize=12,label='k=3')\n",
    "plt.plot(list(test_loss[12].keys()),list(test_loss[12].values()),'bx-',marker = '.',linestyle='--', \n",
    "         markerfacecolor='blue', color='purple', linewidth=2,markersize=12,label='k=12')\n",
    "plt.plot(list(test_loss[48].keys())[1:],list(test_loss[48].values())[1:],'bx-',marker = '.',linestyle='--', \n",
    "         markerfacecolor='orange', color='tomato', linewidth=2,markersize=12,label='k=48')\n",
    "plt.xlabel('Epochs',fontsize=16)\n",
    "plt.ylabel('Test Loss',fontsize=16)\n",
    "plt.title('CNN Epoch-Wise',fontsize=20)\n",
    "plt.legend()\n",
    "plt.grid()\n",
    "plt.show()"
   ]
  },
  {
   "cell_type": "markdown",
   "metadata": {},
   "source": [
    "### ResNet"
   ]
  },
  {
   "cell_type": "code",
   "execution_count": 28,
   "metadata": {
    "colab": {
     "base_uri": "https://localhost:8080/",
     "height": 1000,
     "referenced_widgets": [
      "fe1988e46ffc4159bf9540a28e03456b",
      "ffb5641e77884eb5a9e16abf93d93deb",
      "dfcae7b1351c44b481161a0f2dcb2189",
      "45263346c2fe4c899f774e0a12af97e0",
      "416c494f4ce4452e81a4726e04499022",
      "450688ce84ad4c49a0f867c412f94c89",
      "ca5dcd006a3c4939ad5519dc0d22067c",
      "064374c4a9bd4962b38cf827886505f7",
      "a1a1e9b47aff4f3da06db4ad75ef338c",
      "4f431450dac9417a860958e98d2a01a1",
      "335ff52e9e504cd2a6407ee3fd1c3134",
      "06a1d7c975f64190abb10b785f9d6dbe",
      "68f263163a304692969e3fdf5fa38bd9",
      "a6c5c449fc08439d8946ce3120623eb4",
      "21bd30b0800b453a9868eac5bac57c24",
      "24148c780d5c4c2c855d75756539e0dd",
      "b32d2dbf0f4e42d1a869ce9a503861ff",
      "43e215d1f2904ef79b25ac615ca43c00",
      "1e07d1a34d0649c88f7067a0f5ace190",
      "f5088badedce480d9ec1d0d1123585ae",
      "5dc7d8da7832469d93156dbe7c13ed52",
      "74769cffbb184ee786a5a5cba1f0be21",
      "d243f92e059446af8dace95587284769",
      "59f9c33bd4fe4f139f215cdea5166f5e"
     ]
    },
    "colab_type": "code",
    "id": "IlGCkM4NoCho",
    "outputId": "05f9d4ba-8bd5-4757-9fdf-96a7ec4868bc"
   },
   "outputs": [
    {
     "name": "stdout",
     "output_type": "stream",
     "text": [
      "Model width parameter k: 3\n"
     ]
    },
    {
     "name": "stderr",
     "output_type": "stream",
     "text": [
      "/usr/local/lib/python3.6/dist-packages/ipykernel_launcher.py:7: TqdmDeprecationWarning: This function will be removed in tqdm==5.0.0\n",
      "Please use `tqdm.notebook.tqdm` instead of `tqdm.tqdm_notebook`\n",
      "  import sys\n"
     ]
    },
    {
     "data": {
      "application/vnd.jupyter.widget-view+json": {
       "model_id": "fe1988e46ffc4159bf9540a28e03456b",
       "version_major": 2,
       "version_minor": 0
      },
      "text/plain": [
       "HBox(children=(IntProgress(value=0, max=20), HTML(value='')))"
      ]
     },
     "metadata": {
      "tags": []
     },
     "output_type": "display_data"
    },
    {
     "name": "stdout",
     "output_type": "stream",
     "text": [
      "Epoch: 5, train_loss: 1.2472, test_loss: 1.2441 // -\n",
      "Epoch: 10, train_loss: 1.1177, test_loss: 0.7158 // -\n",
      "Epoch: 15, train_loss: 1.038, test_loss: 0.6074 // -\n",
      "Epoch: 20, train_loss: 0.9783, test_loss: 0.571 // -\n",
      "Epoch: 25, train_loss: 0.9332, test_loss: 0.5702 // -\n",
      "Epoch: 30, train_loss: 0.8935, test_loss: 0.5884 // +\n",
      "Epoch: 35, train_loss: 0.8654, test_loss: 0.6212 // +\n",
      "Epoch: 40, train_loss: 0.8136, test_loss: 0.668 // +\n",
      "Epoch: 45, train_loss: 0.7984, test_loss: 0.6493 // -\n",
      "Epoch: 50, train_loss: 0.7644, test_loss: 0.6508 // +\n",
      "Epoch: 55, train_loss: 0.7297, test_loss: 0.7633 // +\n",
      "Epoch: 60, train_loss: 0.7131, test_loss: 0.7455 // -\n",
      "Epoch: 65, train_loss: 0.6978, test_loss: 0.7179 // -\n",
      "Epoch: 70, train_loss: 0.6734, test_loss: 0.8577 // +\n",
      "Epoch: 75, train_loss: 0.6737, test_loss: 0.816 // -\n",
      "Epoch: 80, train_loss: 0.6275, test_loss: 0.896 // +\n",
      "Epoch: 85, train_loss: 0.6028, test_loss: 0.9214 // +\n",
      "Epoch: 90, train_loss: 0.5823, test_loss: 0.9694 // +\n",
      "Epoch: 95, train_loss: 0.5939, test_loss: 0.8838 // -\n",
      "Epoch: 100, train_loss: 0.5858, test_loss: 0.8895 // +\n",
      "\n",
      "Model width parameter k: 12\n"
     ]
    },
    {
     "data": {
      "application/vnd.jupyter.widget-view+json": {
       "model_id": "a1a1e9b47aff4f3da06db4ad75ef338c",
       "version_major": 2,
       "version_minor": 0
      },
      "text/plain": [
       "HBox(children=(IntProgress(value=0, max=20), HTML(value='')))"
      ]
     },
     "metadata": {
      "tags": []
     },
     "output_type": "display_data"
    },
    {
     "name": "stdout",
     "output_type": "stream",
     "text": [
      "Epoch: 5, train_loss: 0.9094, test_loss: 1.4696 // -\n",
      "Epoch: 10, train_loss: 0.3411, test_loss: 0.8916 // -\n",
      "Epoch: 15, train_loss: 0.0835, test_loss: 1.1364 // +\n",
      "Epoch: 20, train_loss: 0.0976, test_loss: 1.3324 // +\n",
      "Epoch: 25, train_loss: 0.0405, test_loss: 1.2594 // -\n",
      "Epoch: 30, train_loss: 0.0035, test_loss: 1.2348 // -\n",
      "Epoch: 35, train_loss: 0.0007, test_loss: 1.1863 // -\n",
      "Epoch: 40, train_loss: 0.0005, test_loss: 1.191 // +\n",
      "Epoch: 45, train_loss: 0.0004, test_loss: 1.2124 // +\n",
      "Epoch: 50, train_loss: 0.0003, test_loss: 1.1656 // -\n",
      "Epoch: 55, train_loss: 0.0002, test_loss: 1.2477 // +\n",
      "Epoch: 60, train_loss: 0.0002, test_loss: 1.1951 // -\n",
      "Epoch: 65, train_loss: 0.0002, test_loss: 1.2814 // +\n",
      "Epoch: 70, train_loss: 0.0001, test_loss: 1.3713 // +\n",
      "Epoch: 75, train_loss: 0.0001, test_loss: 1.2634 // -\n",
      "Epoch: 80, train_loss: 0.0001, test_loss: 1.2798 // +\n",
      "Epoch: 85, train_loss: 0.0001, test_loss: 1.3579 // +\n",
      "Epoch: 90, train_loss: 0.0001, test_loss: 1.2855 // -\n",
      "Epoch: 95, train_loss: 0.0001, test_loss: 1.2242 // -\n",
      "Epoch: 100, train_loss: 0.0001, test_loss: 1.2787 // +\n",
      "\n",
      "Model width parameter k: 48\n"
     ]
    },
    {
     "data": {
      "application/vnd.jupyter.widget-view+json": {
       "model_id": "b32d2dbf0f4e42d1a869ce9a503861ff",
       "version_major": 2,
       "version_minor": 0
      },
      "text/plain": [
       "HBox(children=(IntProgress(value=0, max=20), HTML(value='')))"
      ]
     },
     "metadata": {
      "tags": []
     },
     "output_type": "display_data"
    },
    {
     "name": "stdout",
     "output_type": "stream",
     "text": [
      "Epoch: 5, train_loss: 0.7564, test_loss: 2.4205 // -\n",
      "Epoch: 10, train_loss: 0.1846, test_loss: 1.096 // -\n",
      "Epoch: 15, train_loss: 0.0927, test_loss: 1.3636 // +\n",
      "Epoch: 20, train_loss: 0.0768, test_loss: 1.2484 // -\n",
      "Epoch: 25, train_loss: 0.093, test_loss: 1.354 // +\n",
      "Epoch: 30, train_loss: 0.0442, test_loss: 1.3945 // +\n",
      "Epoch: 35, train_loss: 0.0146, test_loss: 1.1163 // -\n",
      "Epoch: 40, train_loss: 0.0239, test_loss: 1.2028 // +\n",
      "Epoch: 45, train_loss: 0.0045, test_loss: 1.0216 // -\n",
      "Epoch: 50, train_loss: 0.0002, test_loss: 1.1175 // +\n",
      "Epoch: 55, train_loss: 0.0, test_loss: 1.1588 // +\n",
      "Epoch: 60, train_loss: 0.0062, test_loss: 1.1303 // -\n",
      "Epoch: 65, train_loss: 0.0, test_loss: 1.1397 // +\n",
      "Epoch: 70, train_loss: 0.0, test_loss: 1.0121 // -\n",
      "Epoch: 75, train_loss: 0.0, test_loss: 1.0566 // +\n",
      "Epoch: 80, train_loss: 0.0, test_loss: 1.1211 // +\n",
      "Epoch: 85, train_loss: 0.0, test_loss: 1.076 // -\n",
      "Epoch: 90, train_loss: 0.0, test_loss: 1.0739 // -\n",
      "Epoch: 95, train_loss: 0.0, test_loss: 1.0704 // -\n",
      "Epoch: 100, train_loss: 0.0, test_loss: 1.0414 // -\n",
      "\n"
     ]
    }
   ],
   "source": [
    "train_loss = {}\n",
    "test_loss = {}\n",
    "for k in [3,12,48]:\n",
    "    print('Model width parameter k: {}'.format(k))\n",
    "    train_loss[k] = {}\n",
    "    test_loss[k] = {}\n",
    "    for e in tqdm_notebook(range(5,105,5)):\n",
    "        error_train = []\n",
    "        error_test = []\n",
    "        s = '-'\n",
    "        for _ in range(3):\n",
    "            net = resnet(k)\n",
    "            net.compile(loss=losses.CategoricalCrossentropy(), optimizer=optimizers.Adam(0.001),metrics=metrics.categorical_accuracy)\n",
    "            history = net.fit(X_train_6k,y_train_noise_6k,batch_size=128,epochs=e,validation_data=(X_test,y_test),verbose=0)\n",
    "            error_train.append(history.history['loss'][-1])\n",
    "            error_test.append(history.history['val_loss'][-1])\n",
    "        train_loss[k][e] = np.mean(error_train)\n",
    "        test_loss[k][e] = np.mean(error_test)\n",
    "        if e > 5:\n",
    "            if list(test_loss[k].values())[-1] >= list(test_loss[k].values())[-2]:\n",
    "                s = '+'\n",
    "            else:\n",
    "                s = '-'\n",
    "        print('Epoch: {}, train_loss: {}, test_loss: {} // {}'.format(e,round(train_loss[k][e],4),round(test_loss[k][e],4),s))"
   ]
  },
  {
   "cell_type": "code",
   "execution_count": 29,
   "metadata": {
    "colab": {
     "base_uri": "https://localhost:8080/",
     "height": 577
    },
    "colab_type": "code",
    "id": "sWyLYodCocYM",
    "outputId": "1502de1c-d85e-4c58-85fe-460a4b575bd5"
   },
   "outputs": [
    {
     "data": {
      "image/png": "[encoded data removed]",
      "text/plain": [
       "<Figure size 864x648 with 1 Axes>"
      ]
     },
     "metadata": {
      "needs_background": "light",
      "tags": []
     },
     "output_type": "display_data"
    }
   ],
   "source": [
    "#multiple line plot\n",
    "plt.figure(figsize=(12,9))\n",
    "plt.plot(list(test_loss[3].keys()),list(test_loss[3].values()),'bx-',marker = '.',linestyle='--', \n",
    "         markerfacecolor='yellow', color='skyblue', linewidth=2,markersize=12,label='k=3')\n",
    "plt.plot(list(test_loss[12].keys()),list(test_loss[12].values()),'bx-',marker = '.',linestyle='--', \n",
    "         markerfacecolor='blue', color='purple', linewidth=2,markersize=12,label='k=12')\n",
    "plt.plot(list(test_loss[48].keys())[1:],list(test_loss[48].values())[1:],'bx-',marker = '.',linestyle='--', \n",
    "         markerfacecolor='orange', color='tomato', linewidth=2,markersize=12,label='k=48')\n",
    "plt.xlabel('Epochs',fontsize=16)\n",
    "plt.ylabel('Test Loss',fontsize=16)\n",
    "plt.title('ResNet Epoch-Wise',fontsize=20)\n",
    "plt.legend()\n",
    "plt.grid()\n",
    "plt.show()"
   ]
  }
 ],
 "metadata": {
  "accelerator": "GPU",
  "colab": {
   "collapsed_sections": [],
   "name": "Double Descent.ipynb",
   "provenance": []
  },
  "kernelspec": {
   "display_name": "Python 3",
   "language": "python",
   "name": "python3"
  },
  "language_info": {
   "codemirror_mode": {
    "name": "ipython",
    "version": 3
   },
   "file_extension": ".py",
   "mimetype": "text/x-python",
   "name": "python",
   "nbconvert_exporter": "python",
   "pygments_lexer": "ipython3",
   "version": "3.7.3"
  },
  "widgets": {
   "application/vnd.jupyter.widget-state+json": {
    "064374c4a9bd4962b38cf827886505f7": {
     "model_module": "@jupyter-widgets/base",
     "model_name": "LayoutModel",
     "state": {
      "_model_module": "@jupyter-widgets/base",
      "_model_module_version": "1.2.0",
      "_model_name": "LayoutModel",
      "_view_count": null,
      "_view_module": "@jupyter-widgets/base",
      "_view_module_version": "1.2.0",
      "_view_name": "LayoutView",
      "align_content": null,
      "align_items": null,
      "align_self": null,
      "border": null,
      "bottom": null,
      "display": null,
      "flex": null,
      "flex_flow": null,
      "grid_area": null,
      "grid_auto_columns": null,
      "grid_auto_flow": null,
      "grid_auto_rows": null,
      "grid_column": null,
      "grid_gap": null,
      "grid_row": null,
      "grid_template_areas": null,
      "grid_template_columns": null,
      "grid_template_rows": null,
      "height": null,
      "justify_content": null,
      "justify_items": null,
      "left": null,
      "margin": null,
      "max_height": null,
      "max_width": null,
      "min_height": null,
      "min_width": null,
      "object_fit": null,
      "object_position": null,
      "order": null,
      "overflow": null,
      "overflow_x": null,
      "overflow_y": null,
      "padding": null,
      "right": null,
      "top": null,
      "visibility": null,
      "width": null
     }
    },
    "06a1d7c975f64190abb10b785f9d6dbe": {
     "model_module": "@jupyter-widgets/controls",
     "model_name": "HTMLModel",
     "state": {
      "_dom_classes": [],
      "_model_module": "@jupyter-widgets/controls",
      "_model_module_version": "1.5.0",
      "_model_name": "HTMLModel",
      "_view_count": null,
      "_view_module": "@jupyter-widgets/controls",
      "_view_module_version": "1.5.0",
      "_view_name": "HTMLView",
      "description": "",
      "description_tooltip": null,
      "layout": "IPY_MODEL_24148c780d5c4c2c855d75756539e0dd",
      "placeholder": "​",
      "style": "IPY_MODEL_21bd30b0800b453a9868eac5bac57c24",
      "value": " 20/20 [31:18&lt;00:00, 93.91s/it]"
     }
    },
    "094e3ac25b7743b79aa691883249e3a4": {
     "model_module": "@jupyter-widgets/base",
     "model_name": "LayoutModel",
     "state": {
      "_model_module": "@jupyter-widgets/base",
      "_model_module_version": "1.2.0",
      "_model_name": "LayoutModel",
      "_view_count": null,
      "_view_module": "@jupyter-widgets/base",
      "_view_module_version": "1.2.0",
      "_view_name": "LayoutView",
      "align_content": null,
      "align_items": null,
      "align_self": null,
      "border": null,
      "bottom": null,
      "display": null,
      "flex": null,
      "flex_flow": null,
      "grid_area": null,
      "grid_auto_columns": null,
      "grid_auto_flow": null,
      "grid_auto_rows": null,
      "grid_column": null,
      "grid_gap": null,
      "grid_row": null,
      "grid_template_areas": null,
      "grid_template_columns": null,
      "grid_template_rows": null,
      "height": null,
      "justify_content": null,
      "justify_items": null,
      "left": null,
      "margin": null,
      "max_height": null,
      "max_width": null,
      "min_height": null,
      "min_width": null,
      "object_fit": null,
      "object_position": null,
      "order": null,
      "overflow": null,
      "overflow_x": null,
      "overflow_y": null,
      "padding": null,
      "right": null,
      "top": null,
      "visibility": null,
      "width": null
     }
    },
    "0a56d261733d4e04a073874d506c3f07": {
     "model_module": "@jupyter-widgets/base",
     "model_name": "LayoutModel",
     "state": {
      "_model_module": "@jupyter-widgets/base",
      "_model_module_version": "1.2.0",
      "_model_name": "LayoutModel",
      "_view_count": null,
      "_view_module": "@jupyter-widgets/base",
      "_view_module_version": "1.2.0",
      "_view_name": "LayoutView",
      "align_content": null,
      "align_items": null,
      "align_self": null,
      "border": null,
      "bottom": null,
      "display": null,
      "flex": null,
      "flex_flow": null,
      "grid_area": null,
      "grid_auto_columns": null,
      "grid_auto_flow": null,
      "grid_auto_rows": null,
      "grid_column": null,
      "grid_gap": null,
      "grid_row": null,
      "grid_template_areas": null,
      "grid_template_columns": null,
      "grid_template_rows": null,
      "height": null,
      "justify_content": null,
      "justify_items": null,
      "left": null,
      "margin": null,
      "max_height": null,
      "max_width": null,
      "min_height": null,
      "min_width": null,
      "object_fit": null,
      "object_position": null,
      "order": null,
      "overflow": null,
      "overflow_x": null,
      "overflow_y": null,
      "padding": null,
      "right": null,
      "top": null,
      "visibility": null,
      "width": null
     }
    },
    "0fb6ef423ca440978cd4ef532b0082de": {
     "model_module": "@jupyter-widgets/base",
     "model_name": "LayoutModel",
     "state": {
      "_model_module": "@jupyter-widgets/base",
      "_model_module_version": "1.2.0",
      "_model_name": "LayoutModel",
      "_view_count": null,
      "_view_module": "@jupyter-widgets/base",
      "_view_module_version": "1.2.0",
      "_view_name": "LayoutView",
      "align_content": null,
      "align_items": null,
      "align_self": null,
      "border": null,
      "bottom": null,
      "display": null,
      "flex": null,
      "flex_flow": null,
      "grid_area": null,
      "grid_auto_columns": null,
      "grid_auto_flow": null,
      "grid_auto_rows": null,
      "grid_column": null,
      "grid_gap": null,
      "grid_row": null,
      "grid_template_areas": null,
      "grid_template_columns": null,
      "grid_template_rows": null,
      "height": null,
      "justify_content": null,
      "justify_items": null,
      "left": null,
      "margin": null,
      "max_height": null,
      "max_width": null,
      "min_height": null,
      "min_width": null,
      "object_fit": null,
      "object_position": null,
      "order": null,
      "overflow": null,
      "overflow_x": null,
      "overflow_y": null,
      "padding": null,
      "right": null,
      "top": null,
      "visibility": null,
      "width": null
     }
    },
    "10bbbf632b864ba285c26ee8576e73b5": {
     "model_module": "@jupyter-widgets/controls",
     "model_name": "HBoxModel",
     "state": {
      "_dom_classes": [],
      "_model_module": "@jupyter-widgets/controls",
      "_model_module_version": "1.5.0",
      "_model_name": "HBoxModel",
      "_view_count": null,
      "_view_module": "@jupyter-widgets/controls",
      "_view_module_version": "1.5.0",
      "_view_name": "HBoxView",
      "box_style": "",
      "children": [
       "IPY_MODEL_89c7c316d0864eec8ec48f5ff8d24aa0",
       "IPY_MODEL_cf02040ba62f44c6a193b8c81e5a1b9f"
      ],
      "layout": "IPY_MODEL_cf9dc9ed5937420e8088e83ac5714c2f"
     }
    },
    "17a640a7b15e43058bd88d2674037a4a": {
     "model_module": "@jupyter-widgets/controls",
     "model_name": "HBoxModel",
     "state": {
      "_dom_classes": [],
      "_model_module": "@jupyter-widgets/controls",
      "_model_module_version": "1.5.0",
      "_model_name": "HBoxModel",
      "_view_count": null,
      "_view_module": "@jupyter-widgets/controls",
      "_view_module_version": "1.5.0",
      "_view_name": "HBoxView",
      "box_style": "",
      "children": [
       "IPY_MODEL_8bc1e6069e4142469f3f6554073923e0",
       "IPY_MODEL_1b2e6512cc1d4de78bc6f20da7461a20"
      ],
      "layout": "IPY_MODEL_78ea0a3ea84343b78f2451bac5844fc7"
     }
    },
    "19697d7027b648678628fc98c3ee72b9": {
     "model_module": "@jupyter-widgets/controls",
     "model_name": "DescriptionStyleModel",
     "state": {
      "_model_module": "@jupyter-widgets/controls",
      "_model_module_version": "1.5.0",
      "_model_name": "DescriptionStyleModel",
      "_view_count": null,
      "_view_module": "@jupyter-widgets/base",
      "_view_module_version": "1.2.0",
      "_view_name": "StyleView",
      "description_width": ""
     }
    },
    "1b2e6512cc1d4de78bc6f20da7461a20": {
     "model_module": "@jupyter-widgets/controls",
     "model_name": "HTMLModel",
     "state": {
      "_dom_classes": [],
      "_model_module": "@jupyter-widgets/controls",
      "_model_module_version": "1.5.0",
      "_model_name": "HTMLModel",
      "_view_count": null,
      "_view_module": "@jupyter-widgets/controls",
      "_view_module_version": "1.5.0",
      "_view_name": "HTMLView",
      "description": "",
      "description_tooltip": null,
      "layout": "IPY_MODEL_271e15a3cb414367989af10732c0c1cd",
      "placeholder": "​",
      "style": "IPY_MODEL_6698edcd286546aca3a3eb0660f4e809",
      "value": " 30/30 [30:42&lt;00:00, 61.40s/it]"
     }
    },
    "1b8c92e27cbf4e8fab429197aff3a34c": {
     "model_module": "@jupyter-widgets/controls",
     "model_name": "IntProgressModel",
     "state": {
      "_dom_classes": [],
      "_model_module": "@jupyter-widgets/controls",
      "_model_module_version": "1.5.0",
      "_model_name": "IntProgressModel",
      "_view_count": null,
      "_view_module": "@jupyter-widgets/controls",
      "_view_module_version": "1.5.0",
      "_view_name": "ProgressView",
      "bar_style": "success",
      "description": "100%",
      "description_tooltip": null,
      "layout": "IPY_MODEL_c1bdd56f321f4e0dbb0b5acdbda148cf",
      "max": 30,
      "min": 0,
      "orientation": "horizontal",
      "style": "IPY_MODEL_784b4176db674674b5b2fbf515189682",
      "value": 30
     }
    },
    "1e07d1a34d0649c88f7067a0f5ace190": {
     "model_module": "@jupyter-widgets/controls",
     "model_name": "IntProgressModel",
     "state": {
      "_dom_classes": [],
      "_model_module": "@jupyter-widgets/controls",
      "_model_module_version": "1.5.0",
      "_model_name": "IntProgressModel",
      "_view_count": null,
      "_view_module": "@jupyter-widgets/controls",
      "_view_module_version": "1.5.0",
      "_view_name": "ProgressView",
      "bar_style": "success",
      "description": "100%",
      "description_tooltip": null,
      "layout": "IPY_MODEL_74769cffbb184ee786a5a5cba1f0be21",
      "max": 20,
      "min": 0,
      "orientation": "horizontal",
      "style": "IPY_MODEL_5dc7d8da7832469d93156dbe7c13ed52",
      "value": 20
     }
    },
    "21bd30b0800b453a9868eac5bac57c24": {
     "model_module": "@jupyter-widgets/controls",
     "model_name": "DescriptionStyleModel",
     "state": {
      "_model_module": "@jupyter-widgets/controls",
      "_model_module_version": "1.5.0",
      "_model_name": "DescriptionStyleModel",
      "_view_count": null,
      "_view_module": "@jupyter-widgets/base",
      "_view_module_version": "1.2.0",
      "_view_name": "StyleView",
      "description_width": ""
     }
    },
    "24148c780d5c4c2c855d75756539e0dd": {
     "model_module": "@jupyter-widgets/base",
     "model_name": "LayoutModel",
     "state": {
      "_model_module": "@jupyter-widgets/base",
      "_model_module_version": "1.2.0",
      "_model_name": "LayoutModel",
      "_view_count": null,
      "_view_module": "@jupyter-widgets/base",
      "_view_module_version": "1.2.0",
      "_view_name": "LayoutView",
      "align_content": null,
      "align_items": null,
      "align_self": null,
      "border": null,
      "bottom": null,
      "display": null,
      "flex": null,
      "flex_flow": null,
      "grid_area": null,
      "grid_auto_columns": null,
      "grid_auto_flow": null,
      "grid_auto_rows": null,
      "grid_column": null,
      "grid_gap": null,
      "grid_row": null,
      "grid_template_areas": null,
      "grid_template_columns": null,
      "grid_template_rows": null,
      "height": null,
      "justify_content": null,
      "justify_items": null,
      "left": null,
      "margin": null,
      "max_height": null,
      "max_width": null,
      "min_height": null,
      "min_width": null,
      "object_fit": null,
      "object_position": null,
      "order": null,
      "overflow": null,
      "overflow_x": null,
      "overflow_y": null,
      "padding": null,
      "right": null,
      "top": null,
      "visibility": null,
      "width": null
     }
    },
    "271e15a3cb414367989af10732c0c1cd": {
     "model_module": "@jupyter-widgets/base",
     "model_name": "LayoutModel",
     "state": {
      "_model_module": "@jupyter-widgets/base",
      "_model_module_version": "1.2.0",
      "_model_name": "LayoutModel",
      "_view_count": null,
      "_view_module": "@jupyter-widgets/base",
      "_view_module_version": "1.2.0",
      "_view_name": "LayoutView",
      "align_content": null,
      "align_items": null,
      "align_self": null,
      "border": null,
      "bottom": null,
      "display": null,
      "flex": null,
      "flex_flow": null,
      "grid_area": null,
      "grid_auto_columns": null,
      "grid_auto_flow": null,
      "grid_auto_rows": null,
      "grid_column": null,
      "grid_gap": null,
      "grid_row": null,
      "grid_template_areas": null,
      "grid_template_columns": null,
      "grid_template_rows": null,
      "height": null,
      "justify_content": null,
      "justify_items": null,
      "left": null,
      "margin": null,
      "max_height": null,
      "max_width": null,
      "min_height": null,
      "min_width": null,
      "object_fit": null,
      "object_position": null,
      "order": null,
      "overflow": null,
      "overflow_x": null,
      "overflow_y": null,
      "padding": null,
      "right": null,
      "top": null,
      "visibility": null,
      "width": null
     }
    },
    "31424ed0f0a246628411e133054e0c4d": {
     "model_module": "@jupyter-widgets/base",
     "model_name": "LayoutModel",
     "state": {
      "_model_module": "@jupyter-widgets/base",
      "_model_module_version": "1.2.0",
      "_model_name": "LayoutModel",
      "_view_count": null,
      "_view_module": "@jupyter-widgets/base",
      "_view_module_version": "1.2.0",
      "_view_name": "LayoutView",
      "align_content": null,
      "align_items": null,
      "align_self": null,
      "border": null,
      "bottom": null,
      "display": null,
      "flex": null,
      "flex_flow": null,
      "grid_area": null,
      "grid_auto_columns": null,
      "grid_auto_flow": null,
      "grid_auto_rows": null,
      "grid_column": null,
      "grid_gap": null,
      "grid_row": null,
      "grid_template_areas": null,
      "grid_template_columns": null,
      "grid_template_rows": null,
      "height": null,
      "justify_content": null,
      "justify_items": null,
      "left": null,
      "margin": null,
      "max_height": null,
      "max_width": null,
      "min_height": null,
      "min_width": null,
      "object_fit": null,
      "object_position": null,
      "order": null,
      "overflow": null,
      "overflow_x": null,
      "overflow_y": null,
      "padding": null,
      "right": null,
      "top": null,
      "visibility": null,
      "width": null
     }
    },
    "335ff52e9e504cd2a6407ee3fd1c3134": {
     "model_module": "@jupyter-widgets/controls",
     "model_name": "IntProgressModel",
     "state": {
      "_dom_classes": [],
      "_model_module": "@jupyter-widgets/controls",
      "_model_module_version": "1.5.0",
      "_model_name": "IntProgressModel",
      "_view_count": null,
      "_view_module": "@jupyter-widgets/controls",
      "_view_module_version": "1.5.0",
      "_view_name": "ProgressView",
      "bar_style": "success",
      "description": "100%",
      "description_tooltip": null,
      "layout": "IPY_MODEL_a6c5c449fc08439d8946ce3120623eb4",
      "max": 20,
      "min": 0,
      "orientation": "horizontal",
      "style": "IPY_MODEL_68f263163a304692969e3fdf5fa38bd9",
      "value": 20
     }
    },
    "3b9976cceff34005a5dc6888774eba84": {
     "model_module": "@jupyter-widgets/controls",
     "model_name": "DescriptionStyleModel",
     "state": {
      "_model_module": "@jupyter-widgets/controls",
      "_model_module_version": "1.5.0",
      "_model_name": "DescriptionStyleModel",
      "_view_count": null,
      "_view_module": "@jupyter-widgets/base",
      "_view_module_version": "1.2.0",
      "_view_name": "StyleView",
      "description_width": ""
     }
    },
    "416c494f4ce4452e81a4726e04499022": {
     "model_module": "@jupyter-widgets/controls",
     "model_name": "ProgressStyleModel",
     "state": {
      "_model_module": "@jupyter-widgets/controls",
      "_model_module_version": "1.5.0",
      "_model_name": "ProgressStyleModel",
      "_view_count": null,
      "_view_module": "@jupyter-widgets/base",
      "_view_module_version": "1.2.0",
      "_view_name": "StyleView",
      "bar_color": null,
      "description_width": "initial"
     }
    },
    "43e215d1f2904ef79b25ac615ca43c00": {
     "model_module": "@jupyter-widgets/base",
     "model_name": "LayoutModel",
     "state": {
      "_model_module": "@jupyter-widgets/base",
      "_model_module_version": "1.2.0",
      "_model_name": "LayoutModel",
      "_view_count": null,
      "_view_module": "@jupyter-widgets/base",
      "_view_module_version": "1.2.0",
      "_view_name": "LayoutView",
      "align_content": null,
      "align_items": null,
      "align_self": null,
      "border": null,
      "bottom": null,
      "display": null,
      "flex": null,
      "flex_flow": null,
      "grid_area": null,
      "grid_auto_columns": null,
      "grid_auto_flow": null,
      "grid_auto_rows": null,
      "grid_column": null,
      "grid_gap": null,
      "grid_row": null,
      "grid_template_areas": null,
      "grid_template_columns": null,
      "grid_template_rows": null,
      "height": null,
      "justify_content": null,
      "justify_items": null,
      "left": null,
      "margin": null,
      "max_height": null,
      "max_width": null,
      "min_height": null,
      "min_width": null,
      "object_fit": null,
      "object_position": null,
      "order": null,
      "overflow": null,
      "overflow_x": null,
      "overflow_y": null,
      "padding": null,
      "right": null,
      "top": null,
      "visibility": null,
      "width": null
     }
    },
    "450688ce84ad4c49a0f867c412f94c89": {
     "model_module": "@jupyter-widgets/base",
     "model_name": "LayoutModel",
     "state": {
      "_model_module": "@jupyter-widgets/base",
      "_model_module_version": "1.2.0",
      "_model_name": "LayoutModel",
      "_view_count": null,
      "_view_module": "@jupyter-widgets/base",
      "_view_module_version": "1.2.0",
      "_view_name": "LayoutView",
      "align_content": null,
      "align_items": null,
      "align_self": null,
      "border": null,
      "bottom": null,
      "display": null,
      "flex": null,
      "flex_flow": null,
      "grid_area": null,
      "grid_auto_columns": null,
      "grid_auto_flow": null,
      "grid_auto_rows": null,
      "grid_column": null,
      "grid_gap": null,
      "grid_row": null,
      "grid_template_areas": null,
      "grid_template_columns": null,
      "grid_template_rows": null,
      "height": null,
      "justify_content": null,
      "justify_items": null,
      "left": null,
      "margin": null,
      "max_height": null,
      "max_width": null,
      "min_height": null,
      "min_width": null,
      "object_fit": null,
      "object_position": null,
      "order": null,
      "overflow": null,
      "overflow_x": null,
      "overflow_y": null,
      "padding": null,
      "right": null,
      "top": null,
      "visibility": null,
      "width": null
     }
    },
    "45263346c2fe4c899f774e0a12af97e0": {
     "model_module": "@jupyter-widgets/controls",
     "model_name": "HTMLModel",
     "state": {
      "_dom_classes": [],
      "_model_module": "@jupyter-widgets/controls",
      "_model_module_version": "1.5.0",
      "_model_name": "HTMLModel",
      "_view_count": null,
      "_view_module": "@jupyter-widgets/controls",
      "_view_module_version": "1.5.0",
      "_view_name": "HTMLView",
      "description": "",
      "description_tooltip": null,
      "layout": "IPY_MODEL_064374c4a9bd4962b38cf827886505f7",
      "placeholder": "​",
      "style": "IPY_MODEL_ca5dcd006a3c4939ad5519dc0d22067c",
      "value": " 20/20 [27:06&lt;00:00, 81.33s/it]"
     }
    },
    "4888d9e6fc254e698c90b9264ac497ab": {
     "model_module": "@jupyter-widgets/controls",
     "model_name": "HTMLModel",
     "state": {
      "_dom_classes": [],
      "_model_module": "@jupyter-widgets/controls",
      "_model_module_version": "1.5.0",
      "_model_name": "HTMLModel",
      "_view_count": null,
      "_view_module": "@jupyter-widgets/controls",
      "_view_module_version": "1.5.0",
      "_view_name": "HTMLView",
      "description": "",
      "description_tooltip": null,
      "layout": "IPY_MODEL_5f0591c028bf410aa1384424ecc8b9b0",
      "placeholder": "​",
      "style": "IPY_MODEL_66cb9188b0a14b4bad91b8360fb45ff0",
      "value": " 20/20 [1:27:02&lt;00:00, 261.10s/it]"
     }
    },
    "4d2ce4d533364348a6dde9e4bdfb63c1": {
     "model_module": "@jupyter-widgets/controls",
     "model_name": "HTMLModel",
     "state": {
      "_dom_classes": [],
      "_model_module": "@jupyter-widgets/controls",
      "_model_module_version": "1.5.0",
      "_model_name": "HTMLModel",
      "_view_count": null,
      "_view_module": "@jupyter-widgets/controls",
      "_view_module_version": "1.5.0",
      "_view_name": "HTMLView",
      "description": "",
      "description_tooltip": null,
      "layout": "IPY_MODEL_a1c565816c034ba392d4c6a37147770d",
      "placeholder": "​",
      "style": "IPY_MODEL_a98a516788144b689ee4cfb3172b3ed6",
      "value": " 30/30 [48:20&lt;00:00, 96.69s/it]"
     }
    },
    "4f431450dac9417a860958e98d2a01a1": {
     "model_module": "@jupyter-widgets/base",
     "model_name": "LayoutModel",
     "state": {
      "_model_module": "@jupyter-widgets/base",
      "_model_module_version": "1.2.0",
      "_model_name": "LayoutModel",
      "_view_count": null,
      "_view_module": "@jupyter-widgets/base",
      "_view_module_version": "1.2.0",
      "_view_name": "LayoutView",
      "align_content": null,
      "align_items": null,
      "align_self": null,
      "border": null,
      "bottom": null,
      "display": null,
      "flex": null,
      "flex_flow": null,
      "grid_area": null,
      "grid_auto_columns": null,
      "grid_auto_flow": null,
      "grid_auto_rows": null,
      "grid_column": null,
      "grid_gap": null,
      "grid_row": null,
      "grid_template_areas": null,
      "grid_template_columns": null,
      "grid_template_rows": null,
      "height": null,
      "justify_content": null,
      "justify_items": null,
      "left": null,
      "margin": null,
      "max_height": null,
      "max_width": null,
      "min_height": null,
      "min_width": null,
      "object_fit": null,
      "object_position": null,
      "order": null,
      "overflow": null,
      "overflow_x": null,
      "overflow_y": null,
      "padding": null,
      "right": null,
      "top": null,
      "visibility": null,
      "width": null
     }
    },
    "59f9c33bd4fe4f139f215cdea5166f5e": {
     "model_module": "@jupyter-widgets/base",
     "model_name": "LayoutModel",
     "state": {
      "_model_module": "@jupyter-widgets/base",
      "_model_module_version": "1.2.0",
      "_model_name": "LayoutModel",
      "_view_count": null,
      "_view_module": "@jupyter-widgets/base",
      "_view_module_version": "1.2.0",
      "_view_name": "LayoutView",
      "align_content": null,
      "align_items": null,
      "align_self": null,
      "border": null,
      "bottom": null,
      "display": null,
      "flex": null,
      "flex_flow": null,
      "grid_area": null,
      "grid_auto_columns": null,
      "grid_auto_flow": null,
      "grid_auto_rows": null,
      "grid_column": null,
      "grid_gap": null,
      "grid_row": null,
      "grid_template_areas": null,
      "grid_template_columns": null,
      "grid_template_rows": null,
      "height": null,
      "justify_content": null,
      "justify_items": null,
      "left": null,
      "margin": null,
      "max_height": null,
      "max_width": null,
      "min_height": null,
      "min_width": null,
      "object_fit": null,
      "object_position": null,
      "order": null,
      "overflow": null,
      "overflow_x": null,
      "overflow_y": null,
      "padding": null,
      "right": null,
      "top": null,
      "visibility": null,
      "width": null
     }
    },
    "5dc7d8da7832469d93156dbe7c13ed52": {
     "model_module": "@jupyter-widgets/controls",
     "model_name": "ProgressStyleModel",
     "state": {
      "_model_module": "@jupyter-widgets/controls",
      "_model_module_version": "1.5.0",
      "_model_name": "ProgressStyleModel",
      "_view_count": null,
      "_view_module": "@jupyter-widgets/base",
      "_view_module_version": "1.2.0",
      "_view_name": "StyleView",
      "bar_color": null,
      "description_width": "initial"
     }
    },
    "5f0591c028bf410aa1384424ecc8b9b0": {
     "model_module": "@jupyter-widgets/base",
     "model_name": "LayoutModel",
     "state": {
      "_model_module": "@jupyter-widgets/base",
      "_model_module_version": "1.2.0",
      "_model_name": "LayoutModel",
      "_view_count": null,
      "_view_module": "@jupyter-widgets/base",
      "_view_module_version": "1.2.0",
      "_view_name": "LayoutView",
      "align_content": null,
      "align_items": null,
      "align_self": null,
      "border": null,
      "bottom": null,
      "display": null,
      "flex": null,
      "flex_flow": null,
      "grid_area": null,
      "grid_auto_columns": null,
      "grid_auto_flow": null,
      "grid_auto_rows": null,
      "grid_column": null,
      "grid_gap": null,
      "grid_row": null,
      "grid_template_areas": null,
      "grid_template_columns": null,
      "grid_template_rows": null,
      "height": null,
      "justify_content": null,
      "justify_items": null,
      "left": null,
      "margin": null,
      "max_height": null,
      "max_width": null,
      "min_height": null,
      "min_width": null,
      "object_fit": null,
      "object_position": null,
      "order": null,
      "overflow": null,
      "overflow_x": null,
      "overflow_y": null,
      "padding": null,
      "right": null,
      "top": null,
      "visibility": null,
      "width": null
     }
    },
    "656afbc207b24869a43a2136c84666e1": {
     "model_module": "@jupyter-widgets/base",
     "model_name": "LayoutModel",
     "state": {
      "_model_module": "@jupyter-widgets/base",
      "_model_module_version": "1.2.0",
      "_model_name": "LayoutModel",
      "_view_count": null,
      "_view_module": "@jupyter-widgets/base",
      "_view_module_version": "1.2.0",
      "_view_name": "LayoutView",
      "align_content": null,
      "align_items": null,
      "align_self": null,
      "border": null,
      "bottom": null,
      "display": null,
      "flex": null,
      "flex_flow": null,
      "grid_area": null,
      "grid_auto_columns": null,
      "grid_auto_flow": null,
      "grid_auto_rows": null,
      "grid_column": null,
      "grid_gap": null,
      "grid_row": null,
      "grid_template_areas": null,
      "grid_template_columns": null,
      "grid_template_rows": null,
      "height": null,
      "justify_content": null,
      "justify_items": null,
      "left": null,
      "margin": null,
      "max_height": null,
      "max_width": null,
      "min_height": null,
      "min_width": null,
      "object_fit": null,
      "object_position": null,
      "order": null,
      "overflow": null,
      "overflow_x": null,
      "overflow_y": null,
      "padding": null,
      "right": null,
      "top": null,
      "visibility": null,
      "width": null
     }
    },
    "6698edcd286546aca3a3eb0660f4e809": {
     "model_module": "@jupyter-widgets/controls",
     "model_name": "DescriptionStyleModel",
     "state": {
      "_model_module": "@jupyter-widgets/controls",
      "_model_module_version": "1.5.0",
      "_model_name": "DescriptionStyleModel",
      "_view_count": null,
      "_view_module": "@jupyter-widgets/base",
      "_view_module_version": "1.2.0",
      "_view_name": "StyleView",
      "description_width": ""
     }
    },
    "66cb9188b0a14b4bad91b8360fb45ff0": {
     "model_module": "@jupyter-widgets/controls",
     "model_name": "DescriptionStyleModel",
     "state": {
      "_model_module": "@jupyter-widgets/controls",
      "_model_module_version": "1.5.0",
      "_model_name": "DescriptionStyleModel",
      "_view_count": null,
      "_view_module": "@jupyter-widgets/base",
      "_view_module_version": "1.2.0",
      "_view_name": "StyleView",
      "description_width": ""
     }
    },
    "68f263163a304692969e3fdf5fa38bd9": {
     "model_module": "@jupyter-widgets/controls",
     "model_name": "ProgressStyleModel",
     "state": {
      "_model_module": "@jupyter-widgets/controls",
      "_model_module_version": "1.5.0",
      "_model_name": "ProgressStyleModel",
      "_view_count": null,
      "_view_module": "@jupyter-widgets/base",
      "_view_module_version": "1.2.0",
      "_view_name": "StyleView",
      "bar_color": null,
      "description_width": "initial"
     }
    },
    "6a82ab376cfc42348f7e9590bbe1bafe": {
     "model_module": "@jupyter-widgets/controls",
     "model_name": "IntProgressModel",
     "state": {
      "_dom_classes": [],
      "_model_module": "@jupyter-widgets/controls",
      "_model_module_version": "1.5.0",
      "_model_name": "IntProgressModel",
      "_view_count": null,
      "_view_module": "@jupyter-widgets/controls",
      "_view_module_version": "1.5.0",
      "_view_name": "ProgressView",
      "bar_style": "success",
      "description": "100%",
      "description_tooltip": null,
      "layout": "IPY_MODEL_a06a1e9bd31643719dd762520716ca62",
      "max": 30,
      "min": 0,
      "orientation": "horizontal",
      "style": "IPY_MODEL_7d44a0b3ec6d40e78162ef31878b14dd",
      "value": 30
     }
    },
    "71df90bb20f0477da23bbd79719954b3": {
     "model_module": "@jupyter-widgets/controls",
     "model_name": "ProgressStyleModel",
     "state": {
      "_model_module": "@jupyter-widgets/controls",
      "_model_module_version": "1.5.0",
      "_model_name": "ProgressStyleModel",
      "_view_count": null,
      "_view_module": "@jupyter-widgets/base",
      "_view_module_version": "1.2.0",
      "_view_name": "StyleView",
      "bar_color": null,
      "description_width": "initial"
     }
    },
    "74769cffbb184ee786a5a5cba1f0be21": {
     "model_module": "@jupyter-widgets/base",
     "model_name": "LayoutModel",
     "state": {
      "_model_module": "@jupyter-widgets/base",
      "_model_module_version": "1.2.0",
      "_model_name": "LayoutModel",
      "_view_count": null,
      "_view_module": "@jupyter-widgets/base",
      "_view_module_version": "1.2.0",
      "_view_name": "LayoutView",
      "align_content": null,
      "align_items": null,
      "align_self": null,
      "border": null,
      "bottom": null,
      "display": null,
      "flex": null,
      "flex_flow": null,
      "grid_area": null,
      "grid_auto_columns": null,
      "grid_auto_flow": null,
      "grid_auto_rows": null,
      "grid_column": null,
      "grid_gap": null,
      "grid_row": null,
      "grid_template_areas": null,
      "grid_template_columns": null,
      "grid_template_rows": null,
      "height": null,
      "justify_content": null,
      "justify_items": null,
      "left": null,
      "margin": null,
      "max_height": null,
      "max_width": null,
      "min_height": null,
      "min_width": null,
      "object_fit": null,
      "object_position": null,
      "order": null,
      "overflow": null,
      "overflow_x": null,
      "overflow_y": null,
      "padding": null,
      "right": null,
      "top": null,
      "visibility": null,
      "width": null
     }
    },
    "784b4176db674674b5b2fbf515189682": {
     "model_module": "@jupyter-widgets/controls",
     "model_name": "ProgressStyleModel",
     "state": {
      "_model_module": "@jupyter-widgets/controls",
      "_model_module_version": "1.5.0",
      "_model_name": "ProgressStyleModel",
      "_view_count": null,
      "_view_module": "@jupyter-widgets/base",
      "_view_module_version": "1.2.0",
      "_view_name": "StyleView",
      "bar_color": null,
      "description_width": "initial"
     }
    },
    "78ea0a3ea84343b78f2451bac5844fc7": {
     "model_module": "@jupyter-widgets/base",
     "model_name": "LayoutModel",
     "state": {
      "_model_module": "@jupyter-widgets/base",
      "_model_module_version": "1.2.0",
      "_model_name": "LayoutModel",
      "_view_count": null,
      "_view_module": "@jupyter-widgets/base",
      "_view_module_version": "1.2.0",
      "_view_name": "LayoutView",
      "align_content": null,
      "align_items": null,
      "align_self": null,
      "border": null,
      "bottom": null,
      "display": null,
      "flex": null,
      "flex_flow": null,
      "grid_area": null,
      "grid_auto_columns": null,
      "grid_auto_flow": null,
      "grid_auto_rows": null,
      "grid_column": null,
      "grid_gap": null,
      "grid_row": null,
      "grid_template_areas": null,
      "grid_template_columns": null,
      "grid_template_rows": null,
      "height": null,
      "justify_content": null,
      "justify_items": null,
      "left": null,
      "margin": null,
      "max_height": null,
      "max_width": null,
      "min_height": null,
      "min_width": null,
      "object_fit": null,
      "object_position": null,
      "order": null,
      "overflow": null,
      "overflow_x": null,
      "overflow_y": null,
      "padding": null,
      "right": null,
      "top": null,
      "visibility": null,
      "width": null
     }
    },
    "7c6304ffa8ce480daff2668f247eb8da": {
     "model_module": "@jupyter-widgets/controls",
     "model_name": "HBoxModel",
     "state": {
      "_dom_classes": [],
      "_model_module": "@jupyter-widgets/controls",
      "_model_module_version": "1.5.0",
      "_model_name": "HBoxModel",
      "_view_count": null,
      "_view_module": "@jupyter-widgets/controls",
      "_view_module_version": "1.5.0",
      "_view_name": "HBoxView",
      "box_style": "",
      "children": [
       "IPY_MODEL_d707beeca6dd4e21ae978ee9ed5fed71",
       "IPY_MODEL_4888d9e6fc254e698c90b9264ac497ab"
      ],
      "layout": "IPY_MODEL_9b7797d0f9fb455097368612cedf2750"
     }
    },
    "7d44a0b3ec6d40e78162ef31878b14dd": {
     "model_module": "@jupyter-widgets/controls",
     "model_name": "ProgressStyleModel",
     "state": {
      "_model_module": "@jupyter-widgets/controls",
      "_model_module_version": "1.5.0",
      "_model_name": "ProgressStyleModel",
      "_view_count": null,
      "_view_module": "@jupyter-widgets/base",
      "_view_module_version": "1.2.0",
      "_view_name": "StyleView",
      "bar_color": null,
      "description_width": "initial"
     }
    },
    "89c7c316d0864eec8ec48f5ff8d24aa0": {
     "model_module": "@jupyter-widgets/controls",
     "model_name": "IntProgressModel",
     "state": {
      "_dom_classes": [],
      "_model_module": "@jupyter-widgets/controls",
      "_model_module_version": "1.5.0",
      "_model_name": "IntProgressModel",
      "_view_count": null,
      "_view_module": "@jupyter-widgets/controls",
      "_view_module_version": "1.5.0",
      "_view_name": "ProgressView",
      "bar_style": "success",
      "description": "100%",
      "description_tooltip": null,
      "layout": "IPY_MODEL_094e3ac25b7743b79aa691883249e3a4",
      "max": 20,
      "min": 0,
      "orientation": "horizontal",
      "style": "IPY_MODEL_aa57ccce67b64b0595bdfa6153899d53",
      "value": 20
     }
    },
    "8a8b5ba261784f289ea36af63c683128": {
     "model_module": "@jupyter-widgets/controls",
     "model_name": "HBoxModel",
     "state": {
      "_dom_classes": [],
      "_model_module": "@jupyter-widgets/controls",
      "_model_module_version": "1.5.0",
      "_model_name": "HBoxModel",
      "_view_count": null,
      "_view_module": "@jupyter-widgets/controls",
      "_view_module_version": "1.5.0",
      "_view_name": "HBoxView",
      "box_style": "",
      "children": [
       "IPY_MODEL_6a82ab376cfc42348f7e9590bbe1bafe",
       "IPY_MODEL_4d2ce4d533364348a6dde9e4bdfb63c1"
      ],
      "layout": "IPY_MODEL_0a56d261733d4e04a073874d506c3f07"
     }
    },
    "8bc1e6069e4142469f3f6554073923e0": {
     "model_module": "@jupyter-widgets/controls",
     "model_name": "IntProgressModel",
     "state": {
      "_dom_classes": [],
      "_model_module": "@jupyter-widgets/controls",
      "_model_module_version": "1.5.0",
      "_model_name": "IntProgressModel",
      "_view_count": null,
      "_view_module": "@jupyter-widgets/controls",
      "_view_module_version": "1.5.0",
      "_view_name": "ProgressView",
      "bar_style": "success",
      "description": "100%",
      "description_tooltip": null,
      "layout": "IPY_MODEL_d8e5e5ca092e414388aaef1daafc5a52",
      "max": 30,
      "min": 0,
      "orientation": "horizontal",
      "style": "IPY_MODEL_71df90bb20f0477da23bbd79719954b3",
      "value": 30
     }
    },
    "9b2c97ff18d4442c8cfdcc8239ad80c9": {
     "model_module": "@jupyter-widgets/base",
     "model_name": "LayoutModel",
     "state": {
      "_model_module": "@jupyter-widgets/base",
      "_model_module_version": "1.2.0",
      "_model_name": "LayoutModel",
      "_view_count": null,
      "_view_module": "@jupyter-widgets/base",
      "_view_module_version": "1.2.0",
      "_view_name": "LayoutView",
      "align_content": null,
      "align_items": null,
      "align_self": null,
      "border": null,
      "bottom": null,
      "display": null,
      "flex": null,
      "flex_flow": null,
      "grid_area": null,
      "grid_auto_columns": null,
      "grid_auto_flow": null,
      "grid_auto_rows": null,
      "grid_column": null,
      "grid_gap": null,
      "grid_row": null,
      "grid_template_areas": null,
      "grid_template_columns": null,
      "grid_template_rows": null,
      "height": null,
      "justify_content": null,
      "justify_items": null,
      "left": null,
      "margin": null,
      "max_height": null,
      "max_width": null,
      "min_height": null,
      "min_width": null,
      "object_fit": null,
      "object_position": null,
      "order": null,
      "overflow": null,
      "overflow_x": null,
      "overflow_y": null,
      "padding": null,
      "right": null,
      "top": null,
      "visibility": null,
      "width": null
     }
    },
    "9b7797d0f9fb455097368612cedf2750": {
     "model_module": "@jupyter-widgets/base",
     "model_name": "LayoutModel",
     "state": {
      "_model_module": "@jupyter-widgets/base",
      "_model_module_version": "1.2.0",
      "_model_name": "LayoutModel",
      "_view_count": null,
      "_view_module": "@jupyter-widgets/base",
      "_view_module_version": "1.2.0",
      "_view_name": "LayoutView",
      "align_content": null,
      "align_items": null,
      "align_self": null,
      "border": null,
      "bottom": null,
      "display": null,
      "flex": null,
      "flex_flow": null,
      "grid_area": null,
      "grid_auto_columns": null,
      "grid_auto_flow": null,
      "grid_auto_rows": null,
      "grid_column": null,
      "grid_gap": null,
      "grid_row": null,
      "grid_template_areas": null,
      "grid_template_columns": null,
      "grid_template_rows": null,
      "height": null,
      "justify_content": null,
      "justify_items": null,
      "left": null,
      "margin": null,
      "max_height": null,
      "max_width": null,
      "min_height": null,
      "min_width": null,
      "object_fit": null,
      "object_position": null,
      "order": null,
      "overflow": null,
      "overflow_x": null,
      "overflow_y": null,
      "padding": null,
      "right": null,
      "top": null,
      "visibility": null,
      "width": null
     }
    },
    "a06a1e9bd31643719dd762520716ca62": {
     "model_module": "@jupyter-widgets/base",
     "model_name": "LayoutModel",
     "state": {
      "_model_module": "@jupyter-widgets/base",
      "_model_module_version": "1.2.0",
      "_model_name": "LayoutModel",
      "_view_count": null,
      "_view_module": "@jupyter-widgets/base",
      "_view_module_version": "1.2.0",
      "_view_name": "LayoutView",
      "align_content": null,
      "align_items": null,
      "align_self": null,
      "border": null,
      "bottom": null,
      "display": null,
      "flex": null,
      "flex_flow": null,
      "grid_area": null,
      "grid_auto_columns": null,
      "grid_auto_flow": null,
      "grid_auto_rows": null,
      "grid_column": null,
      "grid_gap": null,
      "grid_row": null,
      "grid_template_areas": null,
      "grid_template_columns": null,
      "grid_template_rows": null,
      "height": null,
      "justify_content": null,
      "justify_items": null,
      "left": null,
      "margin": null,
      "max_height": null,
      "max_width": null,
      "min_height": null,
      "min_width": null,
      "object_fit": null,
      "object_position": null,
      "order": null,
      "overflow": null,
      "overflow_x": null,
      "overflow_y": null,
      "padding": null,
      "right": null,
      "top": null,
      "visibility": null,
      "width": null
     }
    },
    "a1a1e9b47aff4f3da06db4ad75ef338c": {
     "model_module": "@jupyter-widgets/controls",
     "model_name": "HBoxModel",
     "state": {
      "_dom_classes": [],
      "_model_module": "@jupyter-widgets/controls",
      "_model_module_version": "1.5.0",
      "_model_name": "HBoxModel",
      "_view_count": null,
      "_view_module": "@jupyter-widgets/controls",
      "_view_module_version": "1.5.0",
      "_view_name": "HBoxView",
      "box_style": "",
      "children": [
       "IPY_MODEL_335ff52e9e504cd2a6407ee3fd1c3134",
       "IPY_MODEL_06a1d7c975f64190abb10b785f9d6dbe"
      ],
      "layout": "IPY_MODEL_4f431450dac9417a860958e98d2a01a1"
     }
    },
    "a1c565816c034ba392d4c6a37147770d": {
     "model_module": "@jupyter-widgets/base",
     "model_name": "LayoutModel",
     "state": {
      "_model_module": "@jupyter-widgets/base",
      "_model_module_version": "1.2.0",
      "_model_name": "LayoutModel",
      "_view_count": null,
      "_view_module": "@jupyter-widgets/base",
      "_view_module_version": "1.2.0",
      "_view_name": "LayoutView",
      "align_content": null,
      "align_items": null,
      "align_self": null,
      "border": null,
      "bottom": null,
      "display": null,
      "flex": null,
      "flex_flow": null,
      "grid_area": null,
      "grid_auto_columns": null,
      "grid_auto_flow": null,
      "grid_auto_rows": null,
      "grid_column": null,
      "grid_gap": null,
      "grid_row": null,
      "grid_template_areas": null,
      "grid_template_columns": null,
      "grid_template_rows": null,
      "height": null,
      "justify_content": null,
      "justify_items": null,
      "left": null,
      "margin": null,
      "max_height": null,
      "max_width": null,
      "min_height": null,
      "min_width": null,
      "object_fit": null,
      "object_position": null,
      "order": null,
      "overflow": null,
      "overflow_x": null,
      "overflow_y": null,
      "padding": null,
      "right": null,
      "top": null,
      "visibility": null,
      "width": null
     }
    },
    "a4b3ca762ec046f0850cbe065a41bfd2": {
     "model_module": "@jupyter-widgets/controls",
     "model_name": "HTMLModel",
     "state": {
      "_dom_classes": [],
      "_model_module": "@jupyter-widgets/controls",
      "_model_module_version": "1.5.0",
      "_model_name": "HTMLModel",
      "_view_count": null,
      "_view_module": "@jupyter-widgets/controls",
      "_view_module_version": "1.5.0",
      "_view_name": "HTMLView",
      "description": "",
      "description_tooltip": null,
      "layout": "IPY_MODEL_9b2c97ff18d4442c8cfdcc8239ad80c9",
      "placeholder": "​",
      "style": "IPY_MODEL_19697d7027b648678628fc98c3ee72b9",
      "value": " 30/30 [1:30:08&lt;00:00, 180.28s/it]"
     }
    },
    "a6c5c449fc08439d8946ce3120623eb4": {
     "model_module": "@jupyter-widgets/base",
     "model_name": "LayoutModel",
     "state": {
      "_model_module": "@jupyter-widgets/base",
      "_model_module_version": "1.2.0",
      "_model_name": "LayoutModel",
      "_view_count": null,
      "_view_module": "@jupyter-widgets/base",
      "_view_module_version": "1.2.0",
      "_view_name": "LayoutView",
      "align_content": null,
      "align_items": null,
      "align_self": null,
      "border": null,
      "bottom": null,
      "display": null,
      "flex": null,
      "flex_flow": null,
      "grid_area": null,
      "grid_auto_columns": null,
      "grid_auto_flow": null,
      "grid_auto_rows": null,
      "grid_column": null,
      "grid_gap": null,
      "grid_row": null,
      "grid_template_areas": null,
      "grid_template_columns": null,
      "grid_template_rows": null,
      "height": null,
      "justify_content": null,
      "justify_items": null,
      "left": null,
      "margin": null,
      "max_height": null,
      "max_width": null,
      "min_height": null,
      "min_width": null,
      "object_fit": null,
      "object_position": null,
      "order": null,
      "overflow": null,
      "overflow_x": null,
      "overflow_y": null,
      "padding": null,
      "right": null,
      "top": null,
      "visibility": null,
      "width": null
     }
    },
    "a98a516788144b689ee4cfb3172b3ed6": {
     "model_module": "@jupyter-widgets/controls",
     "model_name": "DescriptionStyleModel",
     "state": {
      "_model_module": "@jupyter-widgets/controls",
      "_model_module_version": "1.5.0",
      "_model_name": "DescriptionStyleModel",
      "_view_count": null,
      "_view_module": "@jupyter-widgets/base",
      "_view_module_version": "1.2.0",
      "_view_name": "StyleView",
      "description_width": ""
     }
    },
    "aa57ccce67b64b0595bdfa6153899d53": {
     "model_module": "@jupyter-widgets/controls",
     "model_name": "ProgressStyleModel",
     "state": {
      "_model_module": "@jupyter-widgets/controls",
      "_model_module_version": "1.5.0",
      "_model_name": "ProgressStyleModel",
      "_view_count": null,
      "_view_module": "@jupyter-widgets/base",
      "_view_module_version": "1.2.0",
      "_view_name": "StyleView",
      "bar_color": null,
      "description_width": "initial"
     }
    },
    "b32d2dbf0f4e42d1a869ce9a503861ff": {
     "model_module": "@jupyter-widgets/controls",
     "model_name": "HBoxModel",
     "state": {
      "_dom_classes": [],
      "_model_module": "@jupyter-widgets/controls",
      "_model_module_version": "1.5.0",
      "_model_name": "HBoxModel",
      "_view_count": null,
      "_view_module": "@jupyter-widgets/controls",
      "_view_module_version": "1.5.0",
      "_view_name": "HBoxView",
      "box_style": "",
      "children": [
       "IPY_MODEL_1e07d1a34d0649c88f7067a0f5ace190",
       "IPY_MODEL_f5088badedce480d9ec1d0d1123585ae"
      ],
      "layout": "IPY_MODEL_43e215d1f2904ef79b25ac615ca43c00"
     }
    },
    "b3b9434db05a4daa987833093ca668a3": {
     "model_module": "@jupyter-widgets/controls",
     "model_name": "ProgressStyleModel",
     "state": {
      "_model_module": "@jupyter-widgets/controls",
      "_model_module_version": "1.5.0",
      "_model_name": "ProgressStyleModel",
      "_view_count": null,
      "_view_module": "@jupyter-widgets/base",
      "_view_module_version": "1.2.0",
      "_view_name": "StyleView",
      "bar_color": null,
      "description_width": "initial"
     }
    },
    "c1bdd56f321f4e0dbb0b5acdbda148cf": {
     "model_module": "@jupyter-widgets/base",
     "model_name": "LayoutModel",
     "state": {
      "_model_module": "@jupyter-widgets/base",
      "_model_module_version": "1.2.0",
      "_model_name": "LayoutModel",
      "_view_count": null,
      "_view_module": "@jupyter-widgets/base",
      "_view_module_version": "1.2.0",
      "_view_name": "LayoutView",
      "align_content": null,
      "align_items": null,
      "align_self": null,
      "border": null,
      "bottom": null,
      "display": null,
      "flex": null,
      "flex_flow": null,
      "grid_area": null,
      "grid_auto_columns": null,
      "grid_auto_flow": null,
      "grid_auto_rows": null,
      "grid_column": null,
      "grid_gap": null,
      "grid_row": null,
      "grid_template_areas": null,
      "grid_template_columns": null,
      "grid_template_rows": null,
      "height": null,
      "justify_content": null,
      "justify_items": null,
      "left": null,
      "margin": null,
      "max_height": null,
      "max_width": null,
      "min_height": null,
      "min_width": null,
      "object_fit": null,
      "object_position": null,
      "order": null,
      "overflow": null,
      "overflow_x": null,
      "overflow_y": null,
      "padding": null,
      "right": null,
      "top": null,
      "visibility": null,
      "width": null
     }
    },
    "ca5dcd006a3c4939ad5519dc0d22067c": {
     "model_module": "@jupyter-widgets/controls",
     "model_name": "DescriptionStyleModel",
     "state": {
      "_model_module": "@jupyter-widgets/controls",
      "_model_module_version": "1.5.0",
      "_model_name": "DescriptionStyleModel",
      "_view_count": null,
      "_view_module": "@jupyter-widgets/base",
      "_view_module_version": "1.2.0",
      "_view_name": "StyleView",
      "description_width": ""
     }
    },
    "cf02040ba62f44c6a193b8c81e5a1b9f": {
     "model_module": "@jupyter-widgets/controls",
     "model_name": "HTMLModel",
     "state": {
      "_dom_classes": [],
      "_model_module": "@jupyter-widgets/controls",
      "_model_module_version": "1.5.0",
      "_model_name": "HTMLModel",
      "_view_count": null,
      "_view_module": "@jupyter-widgets/controls",
      "_view_module_version": "1.5.0",
      "_view_name": "HTMLView",
      "description": "",
      "description_tooltip": null,
      "layout": "IPY_MODEL_31424ed0f0a246628411e133054e0c4d",
      "placeholder": "​",
      "style": "IPY_MODEL_3b9976cceff34005a5dc6888774eba84",
      "value": " 20/20 [1:03:00&lt;00:00, 189.03s/it]"
     }
    },
    "cf9dc9ed5937420e8088e83ac5714c2f": {
     "model_module": "@jupyter-widgets/base",
     "model_name": "LayoutModel",
     "state": {
      "_model_module": "@jupyter-widgets/base",
      "_model_module_version": "1.2.0",
      "_model_name": "LayoutModel",
      "_view_count": null,
      "_view_module": "@jupyter-widgets/base",
      "_view_module_version": "1.2.0",
      "_view_name": "LayoutView",
      "align_content": null,
      "align_items": null,
      "align_self": null,
      "border": null,
      "bottom": null,
      "display": null,
      "flex": null,
      "flex_flow": null,
      "grid_area": null,
      "grid_auto_columns": null,
      "grid_auto_flow": null,
      "grid_auto_rows": null,
      "grid_column": null,
      "grid_gap": null,
      "grid_row": null,
      "grid_template_areas": null,
      "grid_template_columns": null,
      "grid_template_rows": null,
      "height": null,
      "justify_content": null,
      "justify_items": null,
      "left": null,
      "margin": null,
      "max_height": null,
      "max_width": null,
      "min_height": null,
      "min_width": null,
      "object_fit": null,
      "object_position": null,
      "order": null,
      "overflow": null,
      "overflow_x": null,
      "overflow_y": null,
      "padding": null,
      "right": null,
      "top": null,
      "visibility": null,
      "width": null
     }
    },
    "d243f92e059446af8dace95587284769": {
     "model_module": "@jupyter-widgets/controls",
     "model_name": "DescriptionStyleModel",
     "state": {
      "_model_module": "@jupyter-widgets/controls",
      "_model_module_version": "1.5.0",
      "_model_name": "DescriptionStyleModel",
      "_view_count": null,
      "_view_module": "@jupyter-widgets/base",
      "_view_module_version": "1.2.0",
      "_view_name": "StyleView",
      "description_width": ""
     }
    },
    "d707beeca6dd4e21ae978ee9ed5fed71": {
     "model_module": "@jupyter-widgets/controls",
     "model_name": "IntProgressModel",
     "state": {
      "_dom_classes": [],
      "_model_module": "@jupyter-widgets/controls",
      "_model_module_version": "1.5.0",
      "_model_name": "IntProgressModel",
      "_view_count": null,
      "_view_module": "@jupyter-widgets/controls",
      "_view_module_version": "1.5.0",
      "_view_name": "ProgressView",
      "bar_style": "success",
      "description": "100%",
      "description_tooltip": null,
      "layout": "IPY_MODEL_0fb6ef423ca440978cd4ef532b0082de",
      "max": 20,
      "min": 0,
      "orientation": "horizontal",
      "style": "IPY_MODEL_b3b9434db05a4daa987833093ca668a3",
      "value": 20
     }
    },
    "d8e5e5ca092e414388aaef1daafc5a52": {
     "model_module": "@jupyter-widgets/base",
     "model_name": "LayoutModel",
     "state": {
      "_model_module": "@jupyter-widgets/base",
      "_model_module_version": "1.2.0",
      "_model_name": "LayoutModel",
      "_view_count": null,
      "_view_module": "@jupyter-widgets/base",
      "_view_module_version": "1.2.0",
      "_view_name": "LayoutView",
      "align_content": null,
      "align_items": null,
      "align_self": null,
      "border": null,
      "bottom": null,
      "display": null,
      "flex": null,
      "flex_flow": null,
      "grid_area": null,
      "grid_auto_columns": null,
      "grid_auto_flow": null,
      "grid_auto_rows": null,
      "grid_column": null,
      "grid_gap": null,
      "grid_row": null,
      "grid_template_areas": null,
      "grid_template_columns": null,
      "grid_template_rows": null,
      "height": null,
      "justify_content": null,
      "justify_items": null,
      "left": null,
      "margin": null,
      "max_height": null,
      "max_width": null,
      "min_height": null,
      "min_width": null,
      "object_fit": null,
      "object_position": null,
      "order": null,
      "overflow": null,
      "overflow_x": null,
      "overflow_y": null,
      "padding": null,
      "right": null,
      "top": null,
      "visibility": null,
      "width": null
     }
    },
    "dfcae7b1351c44b481161a0f2dcb2189": {
     "model_module": "@jupyter-widgets/controls",
     "model_name": "IntProgressModel",
     "state": {
      "_dom_classes": [],
      "_model_module": "@jupyter-widgets/controls",
      "_model_module_version": "1.5.0",
      "_model_name": "IntProgressModel",
      "_view_count": null,
      "_view_module": "@jupyter-widgets/controls",
      "_view_module_version": "1.5.0",
      "_view_name": "ProgressView",
      "bar_style": "success",
      "description": "100%",
      "description_tooltip": null,
      "layout": "IPY_MODEL_450688ce84ad4c49a0f867c412f94c89",
      "max": 20,
      "min": 0,
      "orientation": "horizontal",
      "style": "IPY_MODEL_416c494f4ce4452e81a4726e04499022",
      "value": 20
     }
    },
    "e8934c5fb84d4402bfabefa887451081": {
     "model_module": "@jupyter-widgets/controls",
     "model_name": "HBoxModel",
     "state": {
      "_dom_classes": [],
      "_model_module": "@jupyter-widgets/controls",
      "_model_module_version": "1.5.0",
      "_model_name": "HBoxModel",
      "_view_count": null,
      "_view_module": "@jupyter-widgets/controls",
      "_view_module_version": "1.5.0",
      "_view_name": "HBoxView",
      "box_style": "",
      "children": [
       "IPY_MODEL_1b8c92e27cbf4e8fab429197aff3a34c",
       "IPY_MODEL_a4b3ca762ec046f0850cbe065a41bfd2"
      ],
      "layout": "IPY_MODEL_656afbc207b24869a43a2136c84666e1"
     }
    },
    "f5088badedce480d9ec1d0d1123585ae": {
     "model_module": "@jupyter-widgets/controls",
     "model_name": "HTMLModel",
     "state": {
      "_dom_classes": [],
      "_model_module": "@jupyter-widgets/controls",
      "_model_module_version": "1.5.0",
      "_model_name": "HTMLModel",
      "_view_count": null,
      "_view_module": "@jupyter-widgets/controls",
      "_view_module_version": "1.5.0",
      "_view_name": "HTMLView",
      "description": "",
      "description_tooltip": null,
      "layout": "IPY_MODEL_59f9c33bd4fe4f139f215cdea5166f5e",
      "placeholder": "​",
      "style": "IPY_MODEL_d243f92e059446af8dace95587284769",
      "value": " 20/20 [54:13&lt;00:00, 162.67s/it]"
     }
    },
    "fe1988e46ffc4159bf9540a28e03456b": {
     "model_module": "@jupyter-widgets/controls",
     "model_name": "HBoxModel",
     "state": {
      "_dom_classes": [],
      "_model_module": "@jupyter-widgets/controls",
      "_model_module_version": "1.5.0",
      "_model_name": "HBoxModel",
      "_view_count": null,
      "_view_module": "@jupyter-widgets/controls",
      "_view_module_version": "1.5.0",
      "_view_name": "HBoxView",
      "box_style": "",
      "children": [
       "IPY_MODEL_dfcae7b1351c44b481161a0f2dcb2189",
       "IPY_MODEL_45263346c2fe4c899f774e0a12af97e0"
      ],
      "layout": "IPY_MODEL_ffb5641e77884eb5a9e16abf93d93deb"
     }
    },
    "ffb5641e77884eb5a9e16abf93d93deb": {
     "model_module": "@jupyter-widgets/base",
     "model_name": "LayoutModel",
     "state": {
      "_model_module": "@jupyter-widgets/base",
      "_model_module_version": "1.2.0",
      "_model_name": "LayoutModel",
      "_view_count": null,
      "_view_module": "@jupyter-widgets/base",
      "_view_module_version": "1.2.0",
      "_view_name": "LayoutView",
      "align_content": null,
      "align_items": null,
      "align_self": null,
      "border": null,
      "bottom": null,
      "display": null,
      "flex": null,
      "flex_flow": null,
      "grid_area": null,
      "grid_auto_columns": null,
      "grid_auto_flow": null,
      "grid_auto_rows": null,
      "grid_column": null,
      "grid_gap": null,
      "grid_row": null,
      "grid_template_areas": null,
      "grid_template_columns": null,
      "grid_template_rows": null,
      "height": null,
      "justify_content": null,
      "justify_items": null,
      "left": null,
      "margin": null,
      "max_height": null,
      "max_width": null,
      "min_height": null,
      "min_width": null,
      "object_fit": null,
      "object_position": null,
      "order": null,
      "overflow": null,
      "overflow_x": null,
      "overflow_y": null,
      "padding": null,
      "right": null,
      "top": null,
      "visibility": null,
      "width": null
     }
    }
   }
  }
 },
 "nbformat": 4,
 "nbformat_minor": 1
}
